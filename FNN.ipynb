{
  "nbformat": 4,
  "nbformat_minor": 0,
  "metadata": {
    "colab": {
      "name": "FNN.ipynb",
      "provenance": []
    },
    "kernelspec": {
      "name": "python3",
      "display_name": "Python 3"
    },
    "language_info": {
      "name": "python"
    },
    "accelerator": "GPU",
    "widgets": {
      "application/vnd.jupyter.widget-state+json": {
        "5813fbeb769d4ba4bb90ce47ebc650cb": {
          "model_module": "@jupyter-widgets/controls",
          "model_name": "HBoxModel",
          "model_module_version": "1.5.0",
          "state": {
            "_dom_classes": [],
            "_model_module": "@jupyter-widgets/controls",
            "_model_module_version": "1.5.0",
            "_model_name": "HBoxModel",
            "_view_count": null,
            "_view_module": "@jupyter-widgets/controls",
            "_view_module_version": "1.5.0",
            "_view_name": "HBoxView",
            "box_style": "",
            "children": [
              "IPY_MODEL_3dd1bec8670e4f1da7b67a02412cbc1f",
              "IPY_MODEL_a4b0900db9e9448eb811e3614cc40169",
              "IPY_MODEL_de99d0d7969d4f28a8831488f8253013"
            ],
            "layout": "IPY_MODEL_e9aa2eee09e044b19f3313b2af682eb9"
          }
        },
        "3dd1bec8670e4f1da7b67a02412cbc1f": {
          "model_module": "@jupyter-widgets/controls",
          "model_name": "HTMLModel",
          "model_module_version": "1.5.0",
          "state": {
            "_dom_classes": [],
            "_model_module": "@jupyter-widgets/controls",
            "_model_module_version": "1.5.0",
            "_model_name": "HTMLModel",
            "_view_count": null,
            "_view_module": "@jupyter-widgets/controls",
            "_view_module_version": "1.5.0",
            "_view_name": "HTMLView",
            "description": "",
            "description_tooltip": null,
            "layout": "IPY_MODEL_f6e34a3705fd4d3fa1e3293371f72a88",
            "placeholder": "​",
            "style": "IPY_MODEL_cbd1b065842944d1b7d0b71f7bd2ef3d",
            "value": "100%"
          }
        },
        "a4b0900db9e9448eb811e3614cc40169": {
          "model_module": "@jupyter-widgets/controls",
          "model_name": "FloatProgressModel",
          "model_module_version": "1.5.0",
          "state": {
            "_dom_classes": [],
            "_model_module": "@jupyter-widgets/controls",
            "_model_module_version": "1.5.0",
            "_model_name": "FloatProgressModel",
            "_view_count": null,
            "_view_module": "@jupyter-widgets/controls",
            "_view_module_version": "1.5.0",
            "_view_name": "ProgressView",
            "bar_style": "success",
            "description": "",
            "description_tooltip": null,
            "layout": "IPY_MODEL_dae19102e1904d6880cd5bf673327cb5",
            "max": 20,
            "min": 0,
            "orientation": "horizontal",
            "style": "IPY_MODEL_2f48bb0a9c80433fba550e8a0f9f7e66",
            "value": 20
          }
        },
        "de99d0d7969d4f28a8831488f8253013": {
          "model_module": "@jupyter-widgets/controls",
          "model_name": "HTMLModel",
          "model_module_version": "1.5.0",
          "state": {
            "_dom_classes": [],
            "_model_module": "@jupyter-widgets/controls",
            "_model_module_version": "1.5.0",
            "_model_name": "HTMLModel",
            "_view_count": null,
            "_view_module": "@jupyter-widgets/controls",
            "_view_module_version": "1.5.0",
            "_view_name": "HTMLView",
            "description": "",
            "description_tooltip": null,
            "layout": "IPY_MODEL_74c0651d60d74e6a8c716d4b1aed50a8",
            "placeholder": "​",
            "style": "IPY_MODEL_87eb94f122f44fe7aebd94130500a599",
            "value": " 20/20 [10:12&lt;00:00, 28.15s/it]"
          }
        },
        "e9aa2eee09e044b19f3313b2af682eb9": {
          "model_module": "@jupyter-widgets/base",
          "model_name": "LayoutModel",
          "model_module_version": "1.2.0",
          "state": {
            "_model_module": "@jupyter-widgets/base",
            "_model_module_version": "1.2.0",
            "_model_name": "LayoutModel",
            "_view_count": null,
            "_view_module": "@jupyter-widgets/base",
            "_view_module_version": "1.2.0",
            "_view_name": "LayoutView",
            "align_content": null,
            "align_items": null,
            "align_self": null,
            "border": null,
            "bottom": null,
            "display": null,
            "flex": null,
            "flex_flow": null,
            "grid_area": null,
            "grid_auto_columns": null,
            "grid_auto_flow": null,
            "grid_auto_rows": null,
            "grid_column": null,
            "grid_gap": null,
            "grid_row": null,
            "grid_template_areas": null,
            "grid_template_columns": null,
            "grid_template_rows": null,
            "height": null,
            "justify_content": null,
            "justify_items": null,
            "left": null,
            "margin": null,
            "max_height": null,
            "max_width": null,
            "min_height": null,
            "min_width": null,
            "object_fit": null,
            "object_position": null,
            "order": null,
            "overflow": null,
            "overflow_x": null,
            "overflow_y": null,
            "padding": null,
            "right": null,
            "top": null,
            "visibility": null,
            "width": null
          }
        },
        "f6e34a3705fd4d3fa1e3293371f72a88": {
          "model_module": "@jupyter-widgets/base",
          "model_name": "LayoutModel",
          "model_module_version": "1.2.0",
          "state": {
            "_model_module": "@jupyter-widgets/base",
            "_model_module_version": "1.2.0",
            "_model_name": "LayoutModel",
            "_view_count": null,
            "_view_module": "@jupyter-widgets/base",
            "_view_module_version": "1.2.0",
            "_view_name": "LayoutView",
            "align_content": null,
            "align_items": null,
            "align_self": null,
            "border": null,
            "bottom": null,
            "display": null,
            "flex": null,
            "flex_flow": null,
            "grid_area": null,
            "grid_auto_columns": null,
            "grid_auto_flow": null,
            "grid_auto_rows": null,
            "grid_column": null,
            "grid_gap": null,
            "grid_row": null,
            "grid_template_areas": null,
            "grid_template_columns": null,
            "grid_template_rows": null,
            "height": null,
            "justify_content": null,
            "justify_items": null,
            "left": null,
            "margin": null,
            "max_height": null,
            "max_width": null,
            "min_height": null,
            "min_width": null,
            "object_fit": null,
            "object_position": null,
            "order": null,
            "overflow": null,
            "overflow_x": null,
            "overflow_y": null,
            "padding": null,
            "right": null,
            "top": null,
            "visibility": null,
            "width": null
          }
        },
        "cbd1b065842944d1b7d0b71f7bd2ef3d": {
          "model_module": "@jupyter-widgets/controls",
          "model_name": "DescriptionStyleModel",
          "model_module_version": "1.5.0",
          "state": {
            "_model_module": "@jupyter-widgets/controls",
            "_model_module_version": "1.5.0",
            "_model_name": "DescriptionStyleModel",
            "_view_count": null,
            "_view_module": "@jupyter-widgets/base",
            "_view_module_version": "1.2.0",
            "_view_name": "StyleView",
            "description_width": ""
          }
        },
        "dae19102e1904d6880cd5bf673327cb5": {
          "model_module": "@jupyter-widgets/base",
          "model_name": "LayoutModel",
          "model_module_version": "1.2.0",
          "state": {
            "_model_module": "@jupyter-widgets/base",
            "_model_module_version": "1.2.0",
            "_model_name": "LayoutModel",
            "_view_count": null,
            "_view_module": "@jupyter-widgets/base",
            "_view_module_version": "1.2.0",
            "_view_name": "LayoutView",
            "align_content": null,
            "align_items": null,
            "align_self": null,
            "border": null,
            "bottom": null,
            "display": null,
            "flex": null,
            "flex_flow": null,
            "grid_area": null,
            "grid_auto_columns": null,
            "grid_auto_flow": null,
            "grid_auto_rows": null,
            "grid_column": null,
            "grid_gap": null,
            "grid_row": null,
            "grid_template_areas": null,
            "grid_template_columns": null,
            "grid_template_rows": null,
            "height": null,
            "justify_content": null,
            "justify_items": null,
            "left": null,
            "margin": null,
            "max_height": null,
            "max_width": null,
            "min_height": null,
            "min_width": null,
            "object_fit": null,
            "object_position": null,
            "order": null,
            "overflow": null,
            "overflow_x": null,
            "overflow_y": null,
            "padding": null,
            "right": null,
            "top": null,
            "visibility": null,
            "width": null
          }
        },
        "2f48bb0a9c80433fba550e8a0f9f7e66": {
          "model_module": "@jupyter-widgets/controls",
          "model_name": "ProgressStyleModel",
          "model_module_version": "1.5.0",
          "state": {
            "_model_module": "@jupyter-widgets/controls",
            "_model_module_version": "1.5.0",
            "_model_name": "ProgressStyleModel",
            "_view_count": null,
            "_view_module": "@jupyter-widgets/base",
            "_view_module_version": "1.2.0",
            "_view_name": "StyleView",
            "bar_color": null,
            "description_width": ""
          }
        },
        "74c0651d60d74e6a8c716d4b1aed50a8": {
          "model_module": "@jupyter-widgets/base",
          "model_name": "LayoutModel",
          "model_module_version": "1.2.0",
          "state": {
            "_model_module": "@jupyter-widgets/base",
            "_model_module_version": "1.2.0",
            "_model_name": "LayoutModel",
            "_view_count": null,
            "_view_module": "@jupyter-widgets/base",
            "_view_module_version": "1.2.0",
            "_view_name": "LayoutView",
            "align_content": null,
            "align_items": null,
            "align_self": null,
            "border": null,
            "bottom": null,
            "display": null,
            "flex": null,
            "flex_flow": null,
            "grid_area": null,
            "grid_auto_columns": null,
            "grid_auto_flow": null,
            "grid_auto_rows": null,
            "grid_column": null,
            "grid_gap": null,
            "grid_row": null,
            "grid_template_areas": null,
            "grid_template_columns": null,
            "grid_template_rows": null,
            "height": null,
            "justify_content": null,
            "justify_items": null,
            "left": null,
            "margin": null,
            "max_height": null,
            "max_width": null,
            "min_height": null,
            "min_width": null,
            "object_fit": null,
            "object_position": null,
            "order": null,
            "overflow": null,
            "overflow_x": null,
            "overflow_y": null,
            "padding": null,
            "right": null,
            "top": null,
            "visibility": null,
            "width": null
          }
        },
        "87eb94f122f44fe7aebd94130500a599": {
          "model_module": "@jupyter-widgets/controls",
          "model_name": "DescriptionStyleModel",
          "model_module_version": "1.5.0",
          "state": {
            "_model_module": "@jupyter-widgets/controls",
            "_model_module_version": "1.5.0",
            "_model_name": "DescriptionStyleModel",
            "_view_count": null,
            "_view_module": "@jupyter-widgets/base",
            "_view_module_version": "1.2.0",
            "_view_name": "StyleView",
            "description_width": ""
          }
        }
      }
    }
  },
  "cells": [
    {
      "cell_type": "code",
      "execution_count": null,
      "metadata": {
        "colab": {
          "base_uri": "https://localhost:8080/"
        },
        "id": "tlVBWhQmJQ9y",
        "outputId": "dc992b5b-24f8-4394-b27b-4e41d6646229"
      },
      "outputs": [
        {
          "output_type": "stream",
          "name": "stdout",
          "text": [
            "Mounted at /content/gdrive\n"
          ]
        }
      ],
      "source": [
        "from google.colab import drive\n",
        "import pandas as pd\n",
        "\n",
        "drive.mount('/content/gdrive', force_remount=True)"
      ]
    },
    {
      "cell_type": "code",
      "source": [
        "train = pd.read_csv('/content/gdrive/MyDrive/train.csv')\n",
        "val = pd.read_csv('/content/gdrive/MyDrive/val.csv')"
      ],
      "metadata": {
        "id": "Du3KqpRDV7p-"
      },
      "execution_count": null,
      "outputs": []
    },
    {
      "cell_type": "code",
      "source": [
        "train = train[train['Class']!='Human']\n",
        "val = val[val['Class']!='Human']"
      ],
      "metadata": {
        "id": "s2Mf5kTsaFNT"
      },
      "execution_count": null,
      "outputs": []
    },
    {
      "cell_type": "code",
      "source": [
        "X_train = train[['Text', 'len in symbols',\n",
        "       'len in tokens', 'vowels / symbols', \n",
        "       'mean word length', 'long words / all words',\n",
        "       'small words', 'Dale-Chall', 'Gunning-Fog', 'Flesch',\n",
        "       'func_pos/all_words', 'cont_pos/all_words', 'noun_pos/all_words',\n",
        "       'verb_pos/all_words', 'noun_pos/verb_pos']]\n",
        "y_train = train['Class']"
      ],
      "metadata": {
        "id": "sLqTxK7PY2dc"
      },
      "execution_count": null,
      "outputs": []
    },
    {
      "cell_type": "code",
      "source": [
        "X_test = val[['Text', 'len in symbols',\n",
        "       'len in tokens', 'vowels / symbols', 'mean word length', 'long words / all words',\n",
        "       'small words', 'Dale-Chall', 'Gunning-Fog', 'Flesch',\n",
        "       'func_pos/all_words', 'cont_pos/all_words', 'noun_pos/all_words',\n",
        "       'verb_pos/all_words', 'noun_pos/verb_pos']]\n",
        "y_test = val['Class']"
      ],
      "metadata": {
        "id": "6z5o85EJZIEh"
      },
      "execution_count": null,
      "outputs": []
    },
    {
      "cell_type": "code",
      "source": [
        "from sklearn.ensemble import RandomForestClassifier\n",
        "from sklearn.linear_model import LogisticRegression\n",
        "\n",
        "randomforest = RandomForestClassifier()\n",
        "logreg = LogisticRegression()"
      ],
      "metadata": {
        "id": "3Hp3BOFjYj7S"
      },
      "execution_count": null,
      "outputs": []
    },
    {
      "cell_type": "code",
      "source": [
        "randomforest.fit(X_train.drop('Text', axis=1), y_train)\n",
        "y_pred = randomforest.predict(X_test.drop('Text', axis=1))\n",
        "accuracy_score(y_test, y_pred)"
      ],
      "metadata": {
        "colab": {
          "base_uri": "https://localhost:8080/"
        },
        "id": "LNsWuJIhZY6u",
        "outputId": "6d3632b2-66af-4175-ca1f-38f5bd8ddf11"
      },
      "execution_count": null,
      "outputs": [
        {
          "output_type": "execute_result",
          "data": {
            "text/plain": [
              "0.2725032725032725"
            ]
          },
          "metadata": {},
          "execution_count": 109
        }
      ]
    },
    {
      "cell_type": "code",
      "source": [
        "df = pd.DataFrame({'texts':X_test['Text'], 'predictions': le.inverse_transform(y_pred), \n",
        "                   'labels':le.inverse_transform(y_test)})"
      ],
      "metadata": {
        "id": "McJmo4ZR47qs"
      },
      "execution_count": null,
      "outputs": []
    },
    {
      "cell_type": "code",
      "source": [
        "df"
      ],
      "metadata": {
        "colab": {
          "base_uri": "https://localhost:8080/",
          "height": 423
        },
        "id": "WXPhm20Q5OJS",
        "outputId": "61f17e6c-4173-47cb-8c71-b05183b59ccf"
      },
      "execution_count": null,
      "outputs": [
        {
          "output_type": "execute_result",
          "data": {
            "text/plain": [
              "                                                   texts    predictions  \\\n",
              "0                          Как насчёт ещё одного раунда?       M-BART50   \n",
              "2      Соловьев рассказал о просмотре в эфире одного ...   ruGPT2-Large   \n",
              "3                        Доброе утро, девочки и мальчики        M2M-100   \n",
              "4      В октябре 2005 — докладчица на Европейском Кон...       M-BART50   \n",
              "5      Также большая проблема состоит в том, что мы н...  ruGPT3-Medium   \n",
              "...                                                  ...            ...   \n",
              "21503  Чуть не культовая лента — «Плетеный человек» к...  ruGPT3-Medium   \n",
              "21506  Строев обвиняет в слабости центральных властей...        OPUS-MT   \n",
              "21507  Стерильны бывают и мужчины, но религиозная док...      mT5-Large   \n",
              "21508  Целый день в Pokémon Stadium, а потом еще и на...   ruGPT3-Large   \n",
              "21510  -> Новый флагманский смартфон Sony - это Pixie...   ruGPT3-Small   \n",
              "\n",
              "             labels  \n",
              "0           OPUS-MT  \n",
              "2      ruGPT3-Large  \n",
              "3         mT5-Small  \n",
              "4           M2M-100  \n",
              "5      ruGPT3-Small  \n",
              "...             ...  \n",
              "21503  ruGPT3-Large  \n",
              "21506       M2M-100  \n",
              "21507        M-BART  \n",
              "21508  ruGPT3-Large  \n",
              "21510  ruGPT3-Small  \n",
              "\n",
              "[12987 rows x 3 columns]"
            ],
            "text/html": [
              "\n",
              "  <div id=\"df-65bcf365-05fe-42b7-b787-01d45d8a89e0\">\n",
              "    <div class=\"colab-df-container\">\n",
              "      <div>\n",
              "<style scoped>\n",
              "    .dataframe tbody tr th:only-of-type {\n",
              "        vertical-align: middle;\n",
              "    }\n",
              "\n",
              "    .dataframe tbody tr th {\n",
              "        vertical-align: top;\n",
              "    }\n",
              "\n",
              "    .dataframe thead th {\n",
              "        text-align: right;\n",
              "    }\n",
              "</style>\n",
              "<table border=\"1\" class=\"dataframe\">\n",
              "  <thead>\n",
              "    <tr style=\"text-align: right;\">\n",
              "      <th></th>\n",
              "      <th>texts</th>\n",
              "      <th>predictions</th>\n",
              "      <th>labels</th>\n",
              "    </tr>\n",
              "  </thead>\n",
              "  <tbody>\n",
              "    <tr>\n",
              "      <th>0</th>\n",
              "      <td>Как насчёт ещё одного раунда?</td>\n",
              "      <td>M-BART50</td>\n",
              "      <td>OPUS-MT</td>\n",
              "    </tr>\n",
              "    <tr>\n",
              "      <th>2</th>\n",
              "      <td>Соловьев рассказал о просмотре в эфире одного ...</td>\n",
              "      <td>ruGPT2-Large</td>\n",
              "      <td>ruGPT3-Large</td>\n",
              "    </tr>\n",
              "    <tr>\n",
              "      <th>3</th>\n",
              "      <td>Доброе утро, девочки и мальчики</td>\n",
              "      <td>M2M-100</td>\n",
              "      <td>mT5-Small</td>\n",
              "    </tr>\n",
              "    <tr>\n",
              "      <th>4</th>\n",
              "      <td>В октябре 2005 — докладчица на Европейском Кон...</td>\n",
              "      <td>M-BART50</td>\n",
              "      <td>M2M-100</td>\n",
              "    </tr>\n",
              "    <tr>\n",
              "      <th>5</th>\n",
              "      <td>Также большая проблема состоит в том, что мы н...</td>\n",
              "      <td>ruGPT3-Medium</td>\n",
              "      <td>ruGPT3-Small</td>\n",
              "    </tr>\n",
              "    <tr>\n",
              "      <th>...</th>\n",
              "      <td>...</td>\n",
              "      <td>...</td>\n",
              "      <td>...</td>\n",
              "    </tr>\n",
              "    <tr>\n",
              "      <th>21503</th>\n",
              "      <td>Чуть не культовая лента — «Плетеный человек» к...</td>\n",
              "      <td>ruGPT3-Medium</td>\n",
              "      <td>ruGPT3-Large</td>\n",
              "    </tr>\n",
              "    <tr>\n",
              "      <th>21506</th>\n",
              "      <td>Строев обвиняет в слабости центральных властей...</td>\n",
              "      <td>OPUS-MT</td>\n",
              "      <td>M2M-100</td>\n",
              "    </tr>\n",
              "    <tr>\n",
              "      <th>21507</th>\n",
              "      <td>Стерильны бывают и мужчины, но религиозная док...</td>\n",
              "      <td>mT5-Large</td>\n",
              "      <td>M-BART</td>\n",
              "    </tr>\n",
              "    <tr>\n",
              "      <th>21508</th>\n",
              "      <td>Целый день в Pokémon Stadium, а потом еще и на...</td>\n",
              "      <td>ruGPT3-Large</td>\n",
              "      <td>ruGPT3-Large</td>\n",
              "    </tr>\n",
              "    <tr>\n",
              "      <th>21510</th>\n",
              "      <td>-&gt; Новый флагманский смартфон Sony - это Pixie...</td>\n",
              "      <td>ruGPT3-Small</td>\n",
              "      <td>ruGPT3-Small</td>\n",
              "    </tr>\n",
              "  </tbody>\n",
              "</table>\n",
              "<p>12987 rows × 3 columns</p>\n",
              "</div>\n",
              "      <button class=\"colab-df-convert\" onclick=\"convertToInteractive('df-65bcf365-05fe-42b7-b787-01d45d8a89e0')\"\n",
              "              title=\"Convert this dataframe to an interactive table.\"\n",
              "              style=\"display:none;\">\n",
              "        \n",
              "  <svg xmlns=\"http://www.w3.org/2000/svg\" height=\"24px\"viewBox=\"0 0 24 24\"\n",
              "       width=\"24px\">\n",
              "    <path d=\"M0 0h24v24H0V0z\" fill=\"none\"/>\n",
              "    <path d=\"M18.56 5.44l.94 2.06.94-2.06 2.06-.94-2.06-.94-.94-2.06-.94 2.06-2.06.94zm-11 1L8.5 8.5l.94-2.06 2.06-.94-2.06-.94L8.5 2.5l-.94 2.06-2.06.94zm10 10l.94 2.06.94-2.06 2.06-.94-2.06-.94-.94-2.06-.94 2.06-2.06.94z\"/><path d=\"M17.41 7.96l-1.37-1.37c-.4-.4-.92-.59-1.43-.59-.52 0-1.04.2-1.43.59L10.3 9.45l-7.72 7.72c-.78.78-.78 2.05 0 2.83L4 21.41c.39.39.9.59 1.41.59.51 0 1.02-.2 1.41-.59l7.78-7.78 2.81-2.81c.8-.78.8-2.07 0-2.86zM5.41 20L4 18.59l7.72-7.72 1.47 1.35L5.41 20z\"/>\n",
              "  </svg>\n",
              "      </button>\n",
              "      \n",
              "  <style>\n",
              "    .colab-df-container {\n",
              "      display:flex;\n",
              "      flex-wrap:wrap;\n",
              "      gap: 12px;\n",
              "    }\n",
              "\n",
              "    .colab-df-convert {\n",
              "      background-color: #E8F0FE;\n",
              "      border: none;\n",
              "      border-radius: 50%;\n",
              "      cursor: pointer;\n",
              "      display: none;\n",
              "      fill: #1967D2;\n",
              "      height: 32px;\n",
              "      padding: 0 0 0 0;\n",
              "      width: 32px;\n",
              "    }\n",
              "\n",
              "    .colab-df-convert:hover {\n",
              "      background-color: #E2EBFA;\n",
              "      box-shadow: 0px 1px 2px rgba(60, 64, 67, 0.3), 0px 1px 3px 1px rgba(60, 64, 67, 0.15);\n",
              "      fill: #174EA6;\n",
              "    }\n",
              "\n",
              "    [theme=dark] .colab-df-convert {\n",
              "      background-color: #3B4455;\n",
              "      fill: #D2E3FC;\n",
              "    }\n",
              "\n",
              "    [theme=dark] .colab-df-convert:hover {\n",
              "      background-color: #434B5C;\n",
              "      box-shadow: 0px 1px 3px 1px rgba(0, 0, 0, 0.15);\n",
              "      filter: drop-shadow(0px 1px 2px rgba(0, 0, 0, 0.3));\n",
              "      fill: #FFFFFF;\n",
              "    }\n",
              "  </style>\n",
              "\n",
              "      <script>\n",
              "        const buttonEl =\n",
              "          document.querySelector('#df-65bcf365-05fe-42b7-b787-01d45d8a89e0 button.colab-df-convert');\n",
              "        buttonEl.style.display =\n",
              "          google.colab.kernel.accessAllowed ? 'block' : 'none';\n",
              "\n",
              "        async function convertToInteractive(key) {\n",
              "          const element = document.querySelector('#df-65bcf365-05fe-42b7-b787-01d45d8a89e0');\n",
              "          const dataTable =\n",
              "            await google.colab.kernel.invokeFunction('convertToInteractive',\n",
              "                                                     [key], {});\n",
              "          if (!dataTable) return;\n",
              "\n",
              "          const docLinkHtml = 'Like what you see? Visit the ' +\n",
              "            '<a target=\"_blank\" href=https://colab.research.google.com/notebooks/data_table.ipynb>data table notebook</a>'\n",
              "            + ' to learn more about interactive tables.';\n",
              "          element.innerHTML = '';\n",
              "          dataTable['output_type'] = 'display_data';\n",
              "          await google.colab.output.renderOutput(dataTable, element);\n",
              "          const docLink = document.createElement('div');\n",
              "          docLink.innerHTML = docLinkHtml;\n",
              "          element.appendChild(docLink);\n",
              "        }\n",
              "      </script>\n",
              "    </div>\n",
              "  </div>\n",
              "  "
            ]
          },
          "metadata": {},
          "execution_count": 113
        }
      ]
    },
    {
      "cell_type": "code",
      "source": [
        "df.to_csv('Random_Forest_features.csv')"
      ],
      "metadata": {
        "id": "E_pJzOJs5ZXi"
      },
      "execution_count": null,
      "outputs": []
    },
    {
      "cell_type": "code",
      "source": [
        "logreg.fit(X_train.drop('Text', axis=1), y_train)\n",
        "y_pred = logreg.predict(X_test.drop('Text', axis=1))\n",
        "accuracy_score(y_test, y_pred)"
      ],
      "metadata": {
        "colab": {
          "base_uri": "https://localhost:8080/"
        },
        "id": "CsTWCwJJ4wuI",
        "outputId": "fefad200-6ce6-4df8-ea39-6e923a72fbfa"
      },
      "execution_count": null,
      "outputs": [
        {
          "output_type": "stream",
          "name": "stderr",
          "text": [
            "/usr/local/lib/python3.7/dist-packages/sklearn/linear_model/_logistic.py:818: ConvergenceWarning: lbfgs failed to converge (status=1):\n",
            "STOP: TOTAL NO. of ITERATIONS REACHED LIMIT.\n",
            "\n",
            "Increase the number of iterations (max_iter) or scale the data as shown in:\n",
            "    https://scikit-learn.org/stable/modules/preprocessing.html\n",
            "Please also refer to the documentation for alternative solver options:\n",
            "    https://scikit-learn.org/stable/modules/linear_model.html#logistic-regression\n",
            "  extra_warning_msg=_LOGISTIC_SOLVER_CONVERGENCE_MSG,\n"
          ]
        },
        {
          "output_type": "execute_result",
          "data": {
            "text/plain": [
              "0.21791021791021792"
            ]
          },
          "metadata": {},
          "execution_count": 115
        }
      ]
    },
    {
      "cell_type": "code",
      "source": [
        "df = pd.DataFrame({'texts':X_test['Text'], 'predictions': le.inverse_transform(y_pred), \n",
        "                   'labels':le.inverse_transform(y_test)})\n",
        "df.to_csv('LogReg_features.csv')"
      ],
      "metadata": {
        "id": "K6Cufx1k5hmZ"
      },
      "execution_count": null,
      "outputs": []
    },
    {
      "cell_type": "code",
      "source": [
        "import torch\n",
        "import torch.nn as nn\n",
        "import torch.nn.functional as F\n",
        "from torch.utils.data import Dataset, DataLoader, RandomSampler, SequentialSampler\n",
        "from torch import optim\n",
        "from torch.nn.utils.rnn import pad_sequence"
      ],
      "metadata": {
        "id": "N1Kv316CGFYr"
      },
      "execution_count": null,
      "outputs": []
    },
    {
      "cell_type": "code",
      "source": [
        "class MLP(nn.Module):\n",
        "    \n",
        "    def __init__(self, num_classes, embedding_dim=14):\n",
        "        \n",
        "        super().__init__()          \n",
        "        # указываем в атрибутах класса, какие слои и активации нам понадобятся\n",
        "        self.emb2h = nn.Linear(embedding_dim, 200) \n",
        "        self.act1 = nn.ReLU()\n",
        "        self.h2h = nn.Linear(200, 100) \n",
        "        self.act1 = nn.ReLU()\n",
        "        self.dropout = nn.Dropout(p=0.1)\n",
        "        self.h2out = nn.Linear(100, num_classes)\n",
        "        \n",
        "        \n",
        "    def forward(self, text): #необходимый метод,  в нем указываем, как именно связываются слои/активации между собой\n",
        "        # batch_size x seq_len\n",
        "        #ipdb.set_trace()\n",
        "        hidden = self.emb2h(text) # пропускаем эмбеддинг через полносвязный слой \n",
        "        # batch_size x 10\n",
        "        hidden = self.act1(hidden)\n",
        "        hidden = self.h2h(hidden) # пропускаем эмбеддинг через полносвязный слой \n",
        "        # batch_size x 10\n",
        "        hidden = self.act1(hidden)\n",
        "        # batch_size x 10\n",
        "        hidden = self.dropout(hidden)\n",
        "        # batch_size x 10\n",
        "        out = self.h2out(hidden) # возвращаем одно число для каждого семпла\n",
        "        # batch_size x 1# пропускаем число через сигмоиду, делая из него вероятность класса\n",
        "        # batch_size x 1\n",
        "        return out"
      ],
      "metadata": {
        "id": "He8eDIT-Eozx"
      },
      "execution_count": null,
      "outputs": []
    },
    {
      "cell_type": "code",
      "source": [
        "class Dataset(Dataset):\n",
        "    def __init__(self, matrix, labels, DEVICE='cuda:0'):\n",
        "        self.matrix = matrix.drop(['Text'], axis=1)\n",
        "        self.texts = matrix['Text']\n",
        "        self.length = matrix.shape[0]\n",
        "        self.target = labels\n",
        "        self.device = DEVICE\n",
        "\n",
        "    def __len__(self): #это обязательный метод, он должен уметь считать длину датасета\n",
        "        return self.length\n",
        "\n",
        "    def __getitem__(self, index): #еще один обязательный метод. По индексу возвращает элемент выборки\n",
        "        ids = torch.Tensor(self.matrix.iloc[index])\n",
        "        y = self.target[index]\n",
        "        texts = self.texts.iloc[index]\n",
        "        return ids, y, texts"
      ],
      "metadata": {
        "id": "OZv-903lH9yL"
      },
      "execution_count": null,
      "outputs": []
    },
    {
      "cell_type": "code",
      "source": [
        "from sklearn.preprocessing import LabelEncoder\n",
        "\n",
        "le = LabelEncoder()\n",
        "\n",
        "y_train = le.fit_transform(y_train)\n",
        "y_test = le.transform(y_test)"
      ],
      "metadata": {
        "id": "6q87to54FSbw"
      },
      "execution_count": null,
      "outputs": []
    },
    {
      "cell_type": "code",
      "source": [
        "train_data = Dataset(X_train, y_train, 'cpu')\n",
        "val_data = Dataset(X_test, y_test, 'cpu')\n",
        "train_iterator = DataLoader(train_data, shuffle=True, batch_size=32)\n",
        "val_iterator = DataLoader(val_data, shuffle=True, batch_size=32)"
      ],
      "metadata": {
        "id": "GLiIcqDzIBmL"
      },
      "execution_count": null,
      "outputs": []
    },
    {
      "cell_type": "code",
      "source": [
        "def train(model, iterator, optimizer, criterion):\n",
        "    print('Training...')\n",
        "    epoch_loss = 0 # для подсчета среднего лосса на всех батчах\n",
        "    model.train()  # ставим модель в обучение, явно указываем, что сейчас надо будет хранить градиенты у всех весов\n",
        "\n",
        "    for i, (features, ys, texts) in enumerate(iterator): #итерируемся по батчам\n",
        "        features = features.to('cuda:0')\n",
        "        ys = ys.to('cuda:0')\n",
        "        optimizer.zero_grad()  #обнуляем градиенты\n",
        "        #ipdb.set_trace()\n",
        "        preds_proba = model(features) #прогоняем данные через модель\n",
        "        loss = criterion(preds_proba, ys) #считаем значение функции потерь  \n",
        "        loss.backward() #считаем градиенты  \n",
        "        optimizer.step() #обновляем веса \n",
        "        epoch_loss += loss.item() #сохраняем значение функции потерь\n",
        "        \n",
        "    print(f'Train loss: {epoch_loss/i}')\n",
        "    return epoch_loss / len(iterator) # возвращаем среднее значение функции потерь по всей выборке"
      ],
      "metadata": {
        "id": "HuJfS460FOkp"
      },
      "execution_count": null,
      "outputs": []
    },
    {
      "cell_type": "code",
      "source": [
        "def evaluate(model, iterator, criterion):\n",
        "    print(\"\\nValidating...\")\n",
        "    epoch_loss = 0\n",
        "    accuracy = []\n",
        "    model.eval()\n",
        "    pred = []\n",
        "    labels = [] \n",
        "    text = []\n",
        "    with torch.no_grad():\n",
        "        for i, (features, ys, texts) in enumerate(iterator):   \n",
        "            features = features.to('cuda:0')\n",
        "            ys = ys.to('cuda:0')\n",
        "            predictions = model(features)  # делаем предсказания на тесте\n",
        "            loss = criterion(predictions, ys)   # считаем значения функции ошибки для статистики  \n",
        "            epoch_loss += loss.item() \n",
        "            accuracy.append(accuracy_score(ys.cpu().detach().numpy(), predictions.argmax(axis=1).cpu().detach().numpy()))\n",
        "            pred.extend(predictions.argmax(axis=1).cpu().detach().tolist())\n",
        "            labels.extend(ys.cpu().detach().tolist())\n",
        "            text.extend(list(texts))\n",
        "    print(sum(accuracy)/len(accuracy))\n",
        "    return epoch_loss / len(iterator), pred, labels, text # возвращаем средний лосс по батчам"
      ],
      "metadata": {
        "id": "-DoV9EFrIb-Z"
      },
      "execution_count": null,
      "outputs": []
    },
    {
      "cell_type": "code",
      "source": [
        "model = MLP(num_classes=13)\n",
        "optimizer = optim.Adam(model.parameters(), lr=0.0001)\n",
        "criterion = nn.CrossEntropyLoss()\n",
        "\n",
        "# веса модели и значения лосса храним там же, где и все остальные тензоры\n",
        "model = model.to('cuda:0')\n",
        "criterion = criterion.to('cuda:0')"
      ],
      "metadata": {
        "id": "LzOQBROxI5hI"
      },
      "execution_count": null,
      "outputs": []
    },
    {
      "cell_type": "code",
      "source": [
        "from sklearn.metrics import classification_report, confusion_matrix, accuracy_score"
      ],
      "metadata": {
        "id": "1-p593uXZfcT"
      },
      "execution_count": null,
      "outputs": []
    },
    {
      "cell_type": "code",
      "source": [
        "from tqdm.notebook import tqdm\n",
        "losses = []\n",
        "losses_eval = []\n",
        "\n",
        "for i in tqdm(range(20)):\n",
        "    print(f'\\nstarting Epoch {i}')\n",
        "    epoch_loss = train(model, train_iterator, optimizer, criterion)\n",
        "    losses.append(epoch_loss)\n",
        "\n",
        "    epoch_loss_on_test = evaluate(model, val_iterator, criterion)\n",
        "    losses_eval.append(epoch_loss_on_test)"
      ],
      "metadata": {
        "colab": {
          "base_uri": "https://localhost:8080/",
          "height": 1000,
          "referenced_widgets": [
            "5813fbeb769d4ba4bb90ce47ebc650cb",
            "3dd1bec8670e4f1da7b67a02412cbc1f",
            "a4b0900db9e9448eb811e3614cc40169",
            "de99d0d7969d4f28a8831488f8253013",
            "e9aa2eee09e044b19f3313b2af682eb9",
            "f6e34a3705fd4d3fa1e3293371f72a88",
            "cbd1b065842944d1b7d0b71f7bd2ef3d",
            "dae19102e1904d6880cd5bf673327cb5",
            "2f48bb0a9c80433fba550e8a0f9f7e66",
            "74c0651d60d74e6a8c716d4b1aed50a8",
            "87eb94f122f44fe7aebd94130500a599"
          ]
        },
        "id": "0yTtXh5YIyIu",
        "outputId": "905d85f6-8d59-476f-bff2-2518b4e89af8"
      },
      "execution_count": null,
      "outputs": [
        {
          "output_type": "display_data",
          "data": {
            "text/plain": [
              "  0%|          | 0/20 [00:00<?, ?it/s]"
            ],
            "application/vnd.jupyter.widget-view+json": {
              "version_major": 2,
              "version_minor": 0,
              "model_id": "5813fbeb769d4ba4bb90ce47ebc650cb"
            }
          },
          "metadata": {}
        },
        {
          "output_type": "stream",
          "name": "stdout",
          "text": [
            "\n",
            "starting Epoch 0\n",
            "Training...\n",
            "Train loss: 1.9540821232556709\n",
            "\n",
            "Validating...\n",
            "0.24290731618317823\n",
            "\n",
            "starting Epoch 1\n",
            "Training...\n",
            "Train loss: 1.9237741685442584\n",
            "\n",
            "Validating...\n",
            "0.2509806604634191\n",
            "\n",
            "starting Epoch 2\n",
            "Training...\n",
            "Train loss: 1.9070039788228914\n",
            "\n",
            "Validating...\n",
            "0.2554306923918993\n",
            "\n",
            "starting Epoch 3\n",
            "Training...\n",
            "Train loss: 1.8980741220707764\n",
            "\n",
            "Validating...\n",
            "0.25394829866812624\n",
            "\n",
            "starting Epoch 4\n",
            "Training...\n",
            "Train loss: 1.8927259107251195\n",
            "\n",
            "Validating...\n",
            "0.25799922459405217\n",
            "\n",
            "starting Epoch 5\n",
            "Training...\n",
            "Train loss: 1.8888661020979494\n",
            "\n",
            "Validating...\n",
            "0.2610153256704981\n",
            "\n",
            "starting Epoch 6\n",
            "Training...\n",
            "Train loss: 1.8843393127939794\n",
            "\n",
            "Validating...\n",
            "0.2648011311804415\n",
            "\n",
            "starting Epoch 7\n",
            "Training...\n",
            "Train loss: 1.8818253537819047\n",
            "\n",
            "Validating...\n",
            "0.2657247765006385\n",
            "\n",
            "starting Epoch 8\n",
            "Training...\n",
            "Train loss: 1.8792855508423478\n",
            "\n",
            "Validating...\n",
            "0.2687123700054735\n",
            "\n",
            "starting Epoch 9\n",
            "Training...\n",
            "Train loss: 1.8781660065458952\n",
            "\n",
            "Validating...\n",
            "0.25872046615581096\n",
            "\n",
            "starting Epoch 10\n",
            "Training...\n",
            "Train loss: 1.8760061100945673\n",
            "\n",
            "Validating...\n",
            "0.2618135376756066\n",
            "\n",
            "starting Epoch 11\n",
            "Training...\n",
            "Train loss: 1.8733328977077832\n",
            "\n",
            "Validating...\n",
            "0.267999680715198\n",
            "\n",
            "starting Epoch 12\n",
            "Training...\n",
            "Train loss: 1.8723204956254513\n",
            "\n",
            "Validating...\n",
            "0.27128090220762635\n",
            "\n",
            "starting Epoch 13\n",
            "Training...\n",
            "Train loss: 1.87098707864788\n",
            "\n",
            "Validating...\n",
            "0.2748928115307426\n",
            "\n",
            "starting Epoch 14\n",
            "Training...\n",
            "Train loss: 1.8679746945274591\n",
            "\n",
            "Validating...\n",
            "0.2706993477467616\n",
            "\n",
            "starting Epoch 15\n",
            "Training...\n",
            "Train loss: 1.8668261284992749\n",
            "\n",
            "Validating...\n",
            "0.2703715106732348\n",
            "\n",
            "starting Epoch 16\n",
            "Training...\n",
            "Train loss: 1.8661328576192957\n",
            "\n",
            "Validating...\n",
            "0.2722530103995621\n",
            "\n",
            "starting Epoch 17\n",
            "Training...\n",
            "Train loss: 1.8645599457506479\n",
            "\n",
            "Validating...\n",
            "0.27009783798576903\n",
            "\n",
            "starting Epoch 18\n",
            "Training...\n",
            "Train loss: 1.8630024566450565\n",
            "\n",
            "Validating...\n",
            "0.27414306239737274\n",
            "\n",
            "starting Epoch 19\n",
            "Training...\n",
            "Train loss: 1.8623425896381294\n",
            "\n",
            "Validating...\n",
            "0.2611065498996533\n"
          ]
        }
      ]
    },
    {
      "cell_type": "code",
      "source": [
        "epoch_loss_on_test, predictions, labels, texts = evaluate(model, val_iterator, criterion)"
      ],
      "metadata": {
        "colab": {
          "base_uri": "https://localhost:8080/"
        },
        "id": "d4GWpqwz1S93",
        "outputId": "61cca2e7-3dfd-4422-e3f9-4aa6187df18d"
      },
      "execution_count": null,
      "outputs": [
        {
          "output_type": "stream",
          "name": "stdout",
          "text": [
            "\n",
            "Validating...\n",
            "0.26106378854223683\n"
          ]
        }
      ]
    },
    {
      "cell_type": "code",
      "source": [
        "df = pd.DataFrame({'texts':texts, 'predictions':le.inverse_transform(predictions), 'labels':le.inverse_transform(labels)})"
      ],
      "metadata": {
        "id": "BvYkxi3Y1pXM"
      },
      "execution_count": null,
      "outputs": []
    },
    {
      "cell_type": "code",
      "source": [
        "df.to_csv('FNN_features.csv')"
      ],
      "metadata": {
        "id": "X-IrCCiE37iE"
      },
      "execution_count": null,
      "outputs": []
    }
  ]
}