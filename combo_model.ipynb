{
  "nbformat": 4,
  "nbformat_minor": 0,
  "metadata": {
    "colab": {
      "name": "Копия блокнота \"tfidf.ipynb\"",
      "provenance": []
    },
    "kernelspec": {
      "name": "python3",
      "display_name": "Python 3"
    },
    "language_info": {
      "name": "python"
    },
    "accelerator": "GPU"
  },
  "cells": [
    {
      "cell_type": "code",
      "execution_count": null,
      "metadata": {
        "colab": {
          "base_uri": "https://localhost:8080/"
        },
        "id": "eMJKUnvHGiYk",
        "outputId": "e1019c26-dc5c-4ca1-9883-01205ce7de5d"
      },
      "outputs": [
        {
          "output_type": "stream",
          "name": "stdout",
          "text": [
            "Mounted at /content/gdrive\n"
          ]
        }
      ],
      "source": [
        "from sklearn.feature_extraction.text import TfidfVectorizer\n",
        "from google.colab import drive\n",
        "import pandas as pd\n",
        "from sklearn.metrics import accuracy_score\n",
        "import numpy as np\n",
        "drive.mount('/content/gdrive')\n",
        "\n",
        "vectorizer = TfidfVectorizer(min_df=100, ngram_range=(1, 3))"
      ]
    },
    {
      "cell_type": "code",
      "source": [
        "train = pd.read_csv('/content/gdrive/MyDrive/train.csv')\n",
        "val = pd.read_csv('/content/gdrive/MyDrive/val.csv')\n",
        "train = train[train['Class']!='Human']"
      ],
      "metadata": {
        "id": "hV14v091IosM"
      },
      "execution_count": null,
      "outputs": []
    },
    {
      "cell_type": "code",
      "source": [
        "fake_val = pd.read_csv('binary_predictions.csv', sep='\\t')"
      ],
      "metadata": {
        "id": "V3sjfn0jcWpv"
      },
      "execution_count": null,
      "outputs": []
    },
    {
      "cell_type": "code",
      "source": [
        "fake_val = fake_val[fake_val['predictions'] == 0]"
      ],
      "metadata": {
        "id": "ko1lAToHcyNR"
      },
      "execution_count": null,
      "outputs": []
    },
    {
      "cell_type": "code",
      "source": [
        "strings = []\n",
        "for i, data in fake_val[:2].iterrows():\n",
        "    strings.append(val[val['Text']==data[3]].values[0].tolist())"
      ],
      "metadata": {
        "id": "4gWtSlhSdRiU"
      },
      "execution_count": null,
      "outputs": []
    },
    {
      "cell_type": "code",
      "source": [
        "pd.DataFrame(strings, columns=val.columns)"
      ],
      "metadata": {
        "colab": {
          "base_uri": "https://localhost:8080/",
          "height": 396
        },
        "id": "2TY9jRT9eNga",
        "outputId": "eb3b9975-d5d3-41f7-e5b5-63944e57840c"
      },
      "execution_count": null,
      "outputs": [
        {
          "output_type": "execute_result",
          "data": {
            "text/plain": [
              "   Unnamed: 0  Unnamed: 0.1  Unnamed: 0.1.1      Id  \\\n",
              "0        7046          7046            7046   71773   \n",
              "1       10336         10336           10336  104119   \n",
              "\n",
              "                                                Text         Class  \\\n",
              "0  Три построенных с данной целью здания, в том ч...  ruGPT3-Small   \n",
              "1  обеспечение равных условий защищенности для вс...         Human   \n",
              "\n",
              "                                              Tokens  \\\n",
              "0  ['Три', 'построенных', 'с', 'данной', 'целью',...   \n",
              "1  ['обеспечение', 'равных', 'условий', 'защищенн...   \n",
              "\n",
              "                                              Lemmas  len in symbols  \\\n",
              "0  ['три', 'построить', 'с', 'дать', 'цель', 'зда...             641   \n",
              "1  ['обеспечение', 'равный', 'условие', 'защищённ...              76   \n",
              "\n",
              "   len in tokens  ...  long words / all words  small words  Dale-Chall  \\\n",
              "0             90  ...                   0.018        0.026       19.95   \n",
              "1              9  ...                   0.029        0.009       19.87   \n",
              "\n",
              "   Gunning-Fog  Flesch  func_pos/all_words  cont_pos/all_words  \\\n",
              "0         7.12  104.17               0.222               0.678   \n",
              "1         3.60  113.10               0.111               0.889   \n",
              "\n",
              "   noun_pos/all_words  verb_pos/all_words  noun_pos/verb_pos  \n",
              "0               0.578                 0.1              5.778  \n",
              "1               0.889                 0.0              0.000  \n",
              "\n",
              "[2 rows x 24 columns]"
            ],
            "text/html": [
              "\n",
              "  <div id=\"df-3548cfd8-effa-47de-a69b-5a4b451822db\">\n",
              "    <div class=\"colab-df-container\">\n",
              "      <div>\n",
              "<style scoped>\n",
              "    .dataframe tbody tr th:only-of-type {\n",
              "        vertical-align: middle;\n",
              "    }\n",
              "\n",
              "    .dataframe tbody tr th {\n",
              "        vertical-align: top;\n",
              "    }\n",
              "\n",
              "    .dataframe thead th {\n",
              "        text-align: right;\n",
              "    }\n",
              "</style>\n",
              "<table border=\"1\" class=\"dataframe\">\n",
              "  <thead>\n",
              "    <tr style=\"text-align: right;\">\n",
              "      <th></th>\n",
              "      <th>Unnamed: 0</th>\n",
              "      <th>Unnamed: 0.1</th>\n",
              "      <th>Unnamed: 0.1.1</th>\n",
              "      <th>Id</th>\n",
              "      <th>Text</th>\n",
              "      <th>Class</th>\n",
              "      <th>Tokens</th>\n",
              "      <th>Lemmas</th>\n",
              "      <th>len in symbols</th>\n",
              "      <th>len in tokens</th>\n",
              "      <th>...</th>\n",
              "      <th>long words / all words</th>\n",
              "      <th>small words</th>\n",
              "      <th>Dale-Chall</th>\n",
              "      <th>Gunning-Fog</th>\n",
              "      <th>Flesch</th>\n",
              "      <th>func_pos/all_words</th>\n",
              "      <th>cont_pos/all_words</th>\n",
              "      <th>noun_pos/all_words</th>\n",
              "      <th>verb_pos/all_words</th>\n",
              "      <th>noun_pos/verb_pos</th>\n",
              "    </tr>\n",
              "  </thead>\n",
              "  <tbody>\n",
              "    <tr>\n",
              "      <th>0</th>\n",
              "      <td>7046</td>\n",
              "      <td>7046</td>\n",
              "      <td>7046</td>\n",
              "      <td>71773</td>\n",
              "      <td>Три построенных с данной целью здания, в том ч...</td>\n",
              "      <td>ruGPT3-Small</td>\n",
              "      <td>['Три', 'построенных', 'с', 'данной', 'целью',...</td>\n",
              "      <td>['три', 'построить', 'с', 'дать', 'цель', 'зда...</td>\n",
              "      <td>641</td>\n",
              "      <td>90</td>\n",
              "      <td>...</td>\n",
              "      <td>0.018</td>\n",
              "      <td>0.026</td>\n",
              "      <td>19.95</td>\n",
              "      <td>7.12</td>\n",
              "      <td>104.17</td>\n",
              "      <td>0.222</td>\n",
              "      <td>0.678</td>\n",
              "      <td>0.578</td>\n",
              "      <td>0.1</td>\n",
              "      <td>5.778</td>\n",
              "    </tr>\n",
              "    <tr>\n",
              "      <th>1</th>\n",
              "      <td>10336</td>\n",
              "      <td>10336</td>\n",
              "      <td>10336</td>\n",
              "      <td>104119</td>\n",
              "      <td>обеспечение равных условий защищенности для вс...</td>\n",
              "      <td>Human</td>\n",
              "      <td>['обеспечение', 'равных', 'условий', 'защищенн...</td>\n",
              "      <td>['обеспечение', 'равный', 'условие', 'защищённ...</td>\n",
              "      <td>76</td>\n",
              "      <td>9</td>\n",
              "      <td>...</td>\n",
              "      <td>0.029</td>\n",
              "      <td>0.009</td>\n",
              "      <td>19.87</td>\n",
              "      <td>3.60</td>\n",
              "      <td>113.10</td>\n",
              "      <td>0.111</td>\n",
              "      <td>0.889</td>\n",
              "      <td>0.889</td>\n",
              "      <td>0.0</td>\n",
              "      <td>0.000</td>\n",
              "    </tr>\n",
              "  </tbody>\n",
              "</table>\n",
              "<p>2 rows × 24 columns</p>\n",
              "</div>\n",
              "      <button class=\"colab-df-convert\" onclick=\"convertToInteractive('df-3548cfd8-effa-47de-a69b-5a4b451822db')\"\n",
              "              title=\"Convert this dataframe to an interactive table.\"\n",
              "              style=\"display:none;\">\n",
              "        \n",
              "  <svg xmlns=\"http://www.w3.org/2000/svg\" height=\"24px\"viewBox=\"0 0 24 24\"\n",
              "       width=\"24px\">\n",
              "    <path d=\"M0 0h24v24H0V0z\" fill=\"none\"/>\n",
              "    <path d=\"M18.56 5.44l.94 2.06.94-2.06 2.06-.94-2.06-.94-.94-2.06-.94 2.06-2.06.94zm-11 1L8.5 8.5l.94-2.06 2.06-.94-2.06-.94L8.5 2.5l-.94 2.06-2.06.94zm10 10l.94 2.06.94-2.06 2.06-.94-2.06-.94-.94-2.06-.94 2.06-2.06.94z\"/><path d=\"M17.41 7.96l-1.37-1.37c-.4-.4-.92-.59-1.43-.59-.52 0-1.04.2-1.43.59L10.3 9.45l-7.72 7.72c-.78.78-.78 2.05 0 2.83L4 21.41c.39.39.9.59 1.41.59.51 0 1.02-.2 1.41-.59l7.78-7.78 2.81-2.81c.8-.78.8-2.07 0-2.86zM5.41 20L4 18.59l7.72-7.72 1.47 1.35L5.41 20z\"/>\n",
              "  </svg>\n",
              "      </button>\n",
              "      \n",
              "  <style>\n",
              "    .colab-df-container {\n",
              "      display:flex;\n",
              "      flex-wrap:wrap;\n",
              "      gap: 12px;\n",
              "    }\n",
              "\n",
              "    .colab-df-convert {\n",
              "      background-color: #E8F0FE;\n",
              "      border: none;\n",
              "      border-radius: 50%;\n",
              "      cursor: pointer;\n",
              "      display: none;\n",
              "      fill: #1967D2;\n",
              "      height: 32px;\n",
              "      padding: 0 0 0 0;\n",
              "      width: 32px;\n",
              "    }\n",
              "\n",
              "    .colab-df-convert:hover {\n",
              "      background-color: #E2EBFA;\n",
              "      box-shadow: 0px 1px 2px rgba(60, 64, 67, 0.3), 0px 1px 3px 1px rgba(60, 64, 67, 0.15);\n",
              "      fill: #174EA6;\n",
              "    }\n",
              "\n",
              "    [theme=dark] .colab-df-convert {\n",
              "      background-color: #3B4455;\n",
              "      fill: #D2E3FC;\n",
              "    }\n",
              "\n",
              "    [theme=dark] .colab-df-convert:hover {\n",
              "      background-color: #434B5C;\n",
              "      box-shadow: 0px 1px 3px 1px rgba(0, 0, 0, 0.15);\n",
              "      filter: drop-shadow(0px 1px 2px rgba(0, 0, 0, 0.3));\n",
              "      fill: #FFFFFF;\n",
              "    }\n",
              "  </style>\n",
              "\n",
              "      <script>\n",
              "        const buttonEl =\n",
              "          document.querySelector('#df-3548cfd8-effa-47de-a69b-5a4b451822db button.colab-df-convert');\n",
              "        buttonEl.style.display =\n",
              "          google.colab.kernel.accessAllowed ? 'block' : 'none';\n",
              "\n",
              "        async function convertToInteractive(key) {\n",
              "          const element = document.querySelector('#df-3548cfd8-effa-47de-a69b-5a4b451822db');\n",
              "          const dataTable =\n",
              "            await google.colab.kernel.invokeFunction('convertToInteractive',\n",
              "                                                     [key], {});\n",
              "          if (!dataTable) return;\n",
              "\n",
              "          const docLinkHtml = 'Like what you see? Visit the ' +\n",
              "            '<a target=\"_blank\" href=https://colab.research.google.com/notebooks/data_table.ipynb>data table notebook</a>'\n",
              "            + ' to learn more about interactive tables.';\n",
              "          element.innerHTML = '';\n",
              "          dataTable['output_type'] = 'display_data';\n",
              "          await google.colab.output.renderOutput(dataTable, element);\n",
              "          const docLink = document.createElement('div');\n",
              "          docLink.innerHTML = docLinkHtml;\n",
              "          element.appendChild(docLink);\n",
              "        }\n",
              "      </script>\n",
              "    </div>\n",
              "  </div>\n",
              "  "
            ]
          },
          "metadata": {},
          "execution_count": 35
        }
      ]
    },
    {
      "cell_type": "code",
      "source": [
        "val[val['Text']==fake_val['texts'][0]]"
      ],
      "metadata": {
        "colab": {
          "base_uri": "https://localhost:8080/",
          "height": 313
        },
        "id": "vbWxQvbFchZR",
        "outputId": "e09d489e-478f-4f79-c883-60e061d245cb"
      },
      "execution_count": null,
      "outputs": [
        {
          "output_type": "execute_result",
          "data": {
            "text/plain": [
              "      Unnamed: 0  Unnamed: 0.1  Unnamed: 0.1.1     Id  \\\n",
              "7046        7046          7046            7046  71773   \n",
              "\n",
              "                                                   Text         Class  \\\n",
              "7046  Три построенных с данной целью здания, в том ч...  ruGPT3-Small   \n",
              "\n",
              "                                                 Tokens  \\\n",
              "7046  ['Три', 'построенных', 'с', 'данной', 'целью',...   \n",
              "\n",
              "                                                 Lemmas  len in symbols  \\\n",
              "7046  ['три', 'построить', 'с', 'дать', 'цель', 'зда...             641   \n",
              "\n",
              "      len in tokens  ...  long words / all words  small words  Dale-Chall  \\\n",
              "7046             90  ...                   0.018        0.026       19.95   \n",
              "\n",
              "      Gunning-Fog  Flesch  func_pos/all_words  cont_pos/all_words  \\\n",
              "7046         7.12  104.17               0.222               0.678   \n",
              "\n",
              "      noun_pos/all_words  verb_pos/all_words  noun_pos/verb_pos  \n",
              "7046               0.578                 0.1              5.778  \n",
              "\n",
              "[1 rows x 24 columns]"
            ],
            "text/html": [
              "\n",
              "  <div id=\"df-3b3f0a49-8726-4dbc-a65d-906dba3c668b\">\n",
              "    <div class=\"colab-df-container\">\n",
              "      <div>\n",
              "<style scoped>\n",
              "    .dataframe tbody tr th:only-of-type {\n",
              "        vertical-align: middle;\n",
              "    }\n",
              "\n",
              "    .dataframe tbody tr th {\n",
              "        vertical-align: top;\n",
              "    }\n",
              "\n",
              "    .dataframe thead th {\n",
              "        text-align: right;\n",
              "    }\n",
              "</style>\n",
              "<table border=\"1\" class=\"dataframe\">\n",
              "  <thead>\n",
              "    <tr style=\"text-align: right;\">\n",
              "      <th></th>\n",
              "      <th>Unnamed: 0</th>\n",
              "      <th>Unnamed: 0.1</th>\n",
              "      <th>Unnamed: 0.1.1</th>\n",
              "      <th>Id</th>\n",
              "      <th>Text</th>\n",
              "      <th>Class</th>\n",
              "      <th>Tokens</th>\n",
              "      <th>Lemmas</th>\n",
              "      <th>len in symbols</th>\n",
              "      <th>len in tokens</th>\n",
              "      <th>...</th>\n",
              "      <th>long words / all words</th>\n",
              "      <th>small words</th>\n",
              "      <th>Dale-Chall</th>\n",
              "      <th>Gunning-Fog</th>\n",
              "      <th>Flesch</th>\n",
              "      <th>func_pos/all_words</th>\n",
              "      <th>cont_pos/all_words</th>\n",
              "      <th>noun_pos/all_words</th>\n",
              "      <th>verb_pos/all_words</th>\n",
              "      <th>noun_pos/verb_pos</th>\n",
              "    </tr>\n",
              "  </thead>\n",
              "  <tbody>\n",
              "    <tr>\n",
              "      <th>7046</th>\n",
              "      <td>7046</td>\n",
              "      <td>7046</td>\n",
              "      <td>7046</td>\n",
              "      <td>71773</td>\n",
              "      <td>Три построенных с данной целью здания, в том ч...</td>\n",
              "      <td>ruGPT3-Small</td>\n",
              "      <td>['Три', 'построенных', 'с', 'данной', 'целью',...</td>\n",
              "      <td>['три', 'построить', 'с', 'дать', 'цель', 'зда...</td>\n",
              "      <td>641</td>\n",
              "      <td>90</td>\n",
              "      <td>...</td>\n",
              "      <td>0.018</td>\n",
              "      <td>0.026</td>\n",
              "      <td>19.95</td>\n",
              "      <td>7.12</td>\n",
              "      <td>104.17</td>\n",
              "      <td>0.222</td>\n",
              "      <td>0.678</td>\n",
              "      <td>0.578</td>\n",
              "      <td>0.1</td>\n",
              "      <td>5.778</td>\n",
              "    </tr>\n",
              "  </tbody>\n",
              "</table>\n",
              "<p>1 rows × 24 columns</p>\n",
              "</div>\n",
              "      <button class=\"colab-df-convert\" onclick=\"convertToInteractive('df-3b3f0a49-8726-4dbc-a65d-906dba3c668b')\"\n",
              "              title=\"Convert this dataframe to an interactive table.\"\n",
              "              style=\"display:none;\">\n",
              "        \n",
              "  <svg xmlns=\"http://www.w3.org/2000/svg\" height=\"24px\"viewBox=\"0 0 24 24\"\n",
              "       width=\"24px\">\n",
              "    <path d=\"M0 0h24v24H0V0z\" fill=\"none\"/>\n",
              "    <path d=\"M18.56 5.44l.94 2.06.94-2.06 2.06-.94-2.06-.94-.94-2.06-.94 2.06-2.06.94zm-11 1L8.5 8.5l.94-2.06 2.06-.94-2.06-.94L8.5 2.5l-.94 2.06-2.06.94zm10 10l.94 2.06.94-2.06 2.06-.94-2.06-.94-.94-2.06-.94 2.06-2.06.94z\"/><path d=\"M17.41 7.96l-1.37-1.37c-.4-.4-.92-.59-1.43-.59-.52 0-1.04.2-1.43.59L10.3 9.45l-7.72 7.72c-.78.78-.78 2.05 0 2.83L4 21.41c.39.39.9.59 1.41.59.51 0 1.02-.2 1.41-.59l7.78-7.78 2.81-2.81c.8-.78.8-2.07 0-2.86zM5.41 20L4 18.59l7.72-7.72 1.47 1.35L5.41 20z\"/>\n",
              "  </svg>\n",
              "      </button>\n",
              "      \n",
              "  <style>\n",
              "    .colab-df-container {\n",
              "      display:flex;\n",
              "      flex-wrap:wrap;\n",
              "      gap: 12px;\n",
              "    }\n",
              "\n",
              "    .colab-df-convert {\n",
              "      background-color: #E8F0FE;\n",
              "      border: none;\n",
              "      border-radius: 50%;\n",
              "      cursor: pointer;\n",
              "      display: none;\n",
              "      fill: #1967D2;\n",
              "      height: 32px;\n",
              "      padding: 0 0 0 0;\n",
              "      width: 32px;\n",
              "    }\n",
              "\n",
              "    .colab-df-convert:hover {\n",
              "      background-color: #E2EBFA;\n",
              "      box-shadow: 0px 1px 2px rgba(60, 64, 67, 0.3), 0px 1px 3px 1px rgba(60, 64, 67, 0.15);\n",
              "      fill: #174EA6;\n",
              "    }\n",
              "\n",
              "    [theme=dark] .colab-df-convert {\n",
              "      background-color: #3B4455;\n",
              "      fill: #D2E3FC;\n",
              "    }\n",
              "\n",
              "    [theme=dark] .colab-df-convert:hover {\n",
              "      background-color: #434B5C;\n",
              "      box-shadow: 0px 1px 3px 1px rgba(0, 0, 0, 0.15);\n",
              "      filter: drop-shadow(0px 1px 2px rgba(0, 0, 0, 0.3));\n",
              "      fill: #FFFFFF;\n",
              "    }\n",
              "  </style>\n",
              "\n",
              "      <script>\n",
              "        const buttonEl =\n",
              "          document.querySelector('#df-3b3f0a49-8726-4dbc-a65d-906dba3c668b button.colab-df-convert');\n",
              "        buttonEl.style.display =\n",
              "          google.colab.kernel.accessAllowed ? 'block' : 'none';\n",
              "\n",
              "        async function convertToInteractive(key) {\n",
              "          const element = document.querySelector('#df-3b3f0a49-8726-4dbc-a65d-906dba3c668b');\n",
              "          const dataTable =\n",
              "            await google.colab.kernel.invokeFunction('convertToInteractive',\n",
              "                                                     [key], {});\n",
              "          if (!dataTable) return;\n",
              "\n",
              "          const docLinkHtml = 'Like what you see? Visit the ' +\n",
              "            '<a target=\"_blank\" href=https://colab.research.google.com/notebooks/data_table.ipynb>data table notebook</a>'\n",
              "            + ' to learn more about interactive tables.';\n",
              "          element.innerHTML = '';\n",
              "          dataTable['output_type'] = 'display_data';\n",
              "          await google.colab.output.renderOutput(dataTable, element);\n",
              "          const docLink = document.createElement('div');\n",
              "          docLink.innerHTML = docLinkHtml;\n",
              "          element.appendChild(docLink);\n",
              "        }\n",
              "      </script>\n",
              "    </div>\n",
              "  </div>\n",
              "  "
            ]
          },
          "metadata": {},
          "execution_count": 9
        }
      ]
    },
    {
      "cell_type": "code",
      "source": [
        "from collections import Counter\n",
        "from tqdm.notebook import tqdm\n",
        "vocab = Counter()\n",
        "for text in tqdm(train.Text):\n",
        "    for symbol in text:\n",
        "        if symbol is not \"\\n\":\n",
        "            vocab.update(list(symbol))\n",
        "print('всего уникальных символов:', len(vocab))"
      ],
      "metadata": {
        "id": "70nug_AsLOxs"
      },
      "execution_count": null,
      "outputs": []
    },
    {
      "cell_type": "code",
      "source": [
        "symbol2id = {'PAD':0}\n",
        "\n",
        "for symbol in tqdm(vocab):\n",
        "    symbol2id[symbol] = len(symbol2id)\n",
        "    \n",
        "id2symbol = {i:symbol for symbol, i in symbol2id.items()}"
      ],
      "metadata": {
        "id": "qsvbvfmoMl6G"
      },
      "execution_count": null,
      "outputs": []
    },
    {
      "cell_type": "code",
      "source": [
        "train_transformed = vectorizer.fit_transform(train['Text']).toarray()\n",
        "val_transformed = vectorizer.transform(val['Text']).toarray()"
      ],
      "metadata": {
        "id": "l2t5uMBfHfIt"
      },
      "execution_count": null,
      "outputs": []
    },
    {
      "cell_type": "code",
      "source": [
        "import torch\n",
        "import torch.nn as nn\n",
        "import torch.nn.functional as F\n",
        "from torch.utils.data import Dataset, DataLoader, RandomSampler, SequentialSampler\n",
        "from torch.nn.utils.rnn import pad_sequence"
      ],
      "metadata": {
        "id": "FBbzXhDsNMT3"
      },
      "execution_count": null,
      "outputs": []
    },
    {
      "cell_type": "code",
      "source": [
        "class TFIDFDataset(Dataset):\n",
        "    def __init__(self, matrix, labels, DEVICE, features, symbol2id, dataset):\n",
        "        self.matrix = matrix\n",
        "        self.length = matrix.shape[0]\n",
        "        self.target = labels\n",
        "        self.device = DEVICE\n",
        "        self.dataset = dataset['Text'].values\n",
        "\n",
        "    def __len__(self): #это обязательный метод, он должен уметь считать длину датасета\n",
        "        return self.length\n",
        "\n",
        "    def __getitem__(self, index): #еще один обязательный метод. По индексу возвращает элемент выборки\n",
        "        ids = torch.Tensor(self.matrix[index])\n",
        "        y = self.target[index]\n",
        "        texts = self.dataset[index]\n",
        "        return ids, y, texts"
      ],
      "metadata": {
        "id": "IMUYdCnEONVW"
      },
      "execution_count": null,
      "outputs": []
    },
    {
      "cell_type": "code",
      "source": [
        "from sklearn.preprocessing import LabelEncoder\n",
        "encoder = LabelEncoder()\n",
        "\n",
        "train_labels = encoder.fit_transform(train['Class'])\n",
        "val_labels = encoder.transform(val['Class'])"
      ],
      "metadata": {
        "id": "By1SKWqkSAeM"
      },
      "execution_count": null,
      "outputs": []
    },
    {
      "cell_type": "code",
      "source": [
        "train_data = TFIDFDataset(train_transformed, train_labels, 'cpu', train)\n",
        "val_data = TFIDFDataset(val_transformed, val_labels, 'cpu',val)\n",
        "train_iterator = DataLoader(train_data, shuffle=True, batch_size=64)\n",
        "val_iterator = DataLoader(val_data, shuffle=True, batch_size=64)"
      ],
      "metadata": {
        "id": "Ex1xBs-6SHEf"
      },
      "execution_count": null,
      "outputs": []
    },
    {
      "cell_type": "code",
      "source": [
        "test_batch = next(iter(val_iterator))"
      ],
      "metadata": {
        "id": "_l23fHsLZK5G"
      },
      "execution_count": null,
      "outputs": []
    },
    {
      "cell_type": "code",
      "source": [
        "class MLP(nn.Module):\n",
        "    \n",
        "    def __init__(self, num_classes, vocab_size, embedding_dim=5374):\n",
        "        \n",
        "        super().__init__()          \n",
        "        # указываем в атрибутах класса, какие слои и активации нам понадобятся\n",
        "        self.emb2h = nn.Linear(embedding_dim, 300) \n",
        "        self.act1 = nn.ReLU()\n",
        "        self.dropout = nn.Dropout(p=0.5)\n",
        "\n",
        "        self.h2h = nn.Linear(300, 100)\n",
        "        self.h2out = nn.Linear(100, num_classes)\n",
        "        \n",
        "        \n",
        "    def forward(self, text, features, symbols): #необходимый метод,  в нем указываем, как именно связываются слои/активации между собой\n",
        "        # batch_size x seq_len\n",
        "        #ipdb.set_trace()\n",
        "        hidden = self.emb2h(text) # пропускаем эмбеддинг через полносвязный слой \n",
        "        hidden = self.act1(hidden)\n",
        "        hidden = self.dropout(hidden)\n",
        "        hidden = self.act1(self.h2h(hidden))\n",
        "        # batch_size x 10\n",
        "        out = self.h2out(hidden) # возвращаем одно число для каждого семпла\n",
        "        # batch_size x 1# пропускаем число через сигмоиду, делая из него вероятность класса\n",
        "        # batch_size x 1\n",
        "        return out"
      ],
      "metadata": {
        "id": "TukxlzSISQV_"
      },
      "execution_count": null,
      "outputs": []
    },
    {
      "cell_type": "code",
      "source": [
        "def train(model, iterator, optimizer, criterion):\n",
        "    print('Training...')\n",
        "    epoch_loss = 0 # для подсчета среднего лосса на всех батчах\n",
        "    model.train()  # ставим модель в обучение, явно указываем, что сейчас надо будет хранить градиенты у всех весов\n",
        "\n",
        "    for i, (tfidf ys, texts) in enumerate(iterator): #итерируемся по батчам\n",
        "        tfidf = tfidf.to('cuda:0')\n",
        "        ys = ys.to('cuda:0')\n",
        "        optimizer.zero_grad()  #обнуляем градиенты\n",
        "        #ipdb.set_trace()\n",
        "        preds_proba = model(tfidf) #прогоняем данные через модель\n",
        "        loss = criterion(preds_proba, ys) #считаем значение функции потерь  \n",
        "        loss.backward() #считаем градиенты  \n",
        "        optimizer.step() #обновляем веса \n",
        "        epoch_loss += loss.item() #сохраняем значение функции потерь\n",
        "        \n",
        "    print(f'Train loss: {epoch_loss/i}')\n",
        "    return epoch_loss / len(iterator) # возвращаем среднее значение функции потерь по всей выборке"
      ],
      "metadata": {
        "id": "Uc87lEWNXX9R"
      },
      "execution_count": null,
      "outputs": []
    },
    {
      "cell_type": "code",
      "source": [
        "def evaluate(model, iterator, criterion):\n",
        "    print(\"\\nValidating...\")\n",
        "    epoch_loss = 0\n",
        "    accuracy = []\n",
        "    model.eval() \n",
        "    text = []\n",
        "    pred = []\n",
        "    label = []\n",
        "    with torch.no_grad():\n",
        "        for i, (tfidf,  ys, texts) in enumerate(iterator):   \n",
        "            tfidf = tfidf.to('cuda:0')\n",
        "            ys = ys.to('cuda:0')\n",
        "            predictions = model(tfidf)  # делаем предсказания на тесте\n",
        "            loss = criterion(predictions, ys)   # считаем значения функции ошибки для статистики  \n",
        "            epoch_loss += loss.item() \n",
        "            accuracy.append(accuracy_score(ys.cpu().detach().numpy(), predictions.argmax(axis=1).cpu().detach().numpy()))\n",
        "            label.extend(ys.cpu().detach().tolist())\n",
        "            pred.extend(predictions.argmax(axis=1).cpu().detach().tolist())\n",
        "            text.extend(list(texts))\n",
        "    print(sum(accuracy)/len(accuracy))\n",
        "    return epoch_loss / len(iterator), text, pred, label # возвращаем средний лосс по батчам"
      ],
      "metadata": {
        "id": "GmCkh9YEXd1c"
      },
      "execution_count": null,
      "outputs": []
    },
    {
      "cell_type": "code",
      "source": [
        "from torch import optim"
      ],
      "metadata": {
        "id": "5sTDvVTRXmvM"
      },
      "execution_count": null,
      "outputs": []
    },
    {
      "cell_type": "code",
      "source": [
        "from tqdm.notebook import tqdm"
      ],
      "metadata": {
        "id": "y6n5znGJEXUI"
      },
      "execution_count": null,
      "outputs": []
    },
    {
      "cell_type": "code",
      "source": [
        "model = MLP(num_classes=13, vocab_size=len(symbol2id), embedding_dim=3358)\n",
        "optimizer = optim.Adam(model.parameters(), lr=0.001)\n",
        "criterion = nn.CrossEntropyLoss() # Binary Cross Entropy\n",
        "\n",
        "\n",
        "\n",
        "# веса модели и значения лосса храним там же, где и все остальные тензоры\n",
        "model = model.to('cuda:0')\n",
        "criterion = criterion.to('cuda:0')"
      ],
      "metadata": {
        "id": "1r0ZjSMzIOz3"
      },
      "execution_count": null,
      "outputs": []
    },
    {
      "cell_type": "code",
      "source": [
        "losses = []\n",
        "losses_eval = []\n",
        "\n",
        "for i in tqdm(range(15)):\n",
        "    print(f'\\nstarting Epoch {i}')\n",
        "    epoch_loss = train(model, train_iterator, optimizer, criterion)\n",
        "    losses.append(epoch_loss)\n",
        "\n",
        "    epoch_loss_on_test = evaluate(model, val_iterator, criterion)\n",
        "    losses_eval.append(epoch_loss_on_test)"
      ],
      "metadata": {
        "id": "Hjbzi83gJ53x"
      },
      "execution_count": null,
      "outputs": []
    },
    {
      "cell_type": "code",
      "source": [
        "epoch_loss_on_test, texts, predictions, labels = evaluate(model, val_iterator, criterion)\n",
        "df = pd.DataFrame({'texts':texts, 'predictions':encoder.inverse_transform(predictions), \n",
        "                   'labels':encoder.inverse_transform(labels)})\n",
        "df.to_csv('combo_model.csv')"
      ],
      "metadata": {
        "id": "_zu-SfhWCIkb"
      },
      "execution_count": null,
      "outputs": []
    }
  ]
}