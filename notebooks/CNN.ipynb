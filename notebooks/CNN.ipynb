{
  "nbformat": 4,
  "nbformat_minor": 0,
  "metadata": {
    "colab": {
      "name": "Копия блокнота \"cnn_binary classification on multi data.ipynb\"",
      "provenance": [],
      "collapsed_sections": [
        "y96kvwyavEMZ",
        "TYvmzzkyvaha"
      ]
    },
    "kernelspec": {
      "name": "python3",
      "display_name": "Python 3"
    },
    "language_info": {
      "name": "python"
    },
    "accelerator": "GPU",
    "widgets": {
      "application/vnd.jupyter.widget-state+json": {
        "878a3a055aa84c2aa849c4b8d8a7670a": {
          "model_module": "@jupyter-widgets/controls",
          "model_name": "HBoxModel",
          "model_module_version": "1.5.0",
          "state": {
            "_dom_classes": [],
            "_model_module": "@jupyter-widgets/controls",
            "_model_module_version": "1.5.0",
            "_model_name": "HBoxModel",
            "_view_count": null,
            "_view_module": "@jupyter-widgets/controls",
            "_view_module_version": "1.5.0",
            "_view_name": "HBoxView",
            "box_style": "",
            "children": [
              "IPY_MODEL_c23958103eb84868ac13fb6bcf7c6f00",
              "IPY_MODEL_e0fbfd15651e4d61b35ecb043e7a3898",
              "IPY_MODEL_bf34e0fbbce84f138696eb62bc88e3e5"
            ],
            "layout": "IPY_MODEL_d2c65367d4d649f78c17dc8ce86e5449"
          }
        },
        "c23958103eb84868ac13fb6bcf7c6f00": {
          "model_module": "@jupyter-widgets/controls",
          "model_name": "HTMLModel",
          "model_module_version": "1.5.0",
          "state": {
            "_dom_classes": [],
            "_model_module": "@jupyter-widgets/controls",
            "_model_module_version": "1.5.0",
            "_model_name": "HTMLModel",
            "_view_count": null,
            "_view_module": "@jupyter-widgets/controls",
            "_view_module_version": "1.5.0",
            "_view_name": "HTMLView",
            "description": "",
            "description_tooltip": null,
            "layout": "IPY_MODEL_de0eeadb5a20479c94474ef3f893cc04",
            "placeholder": "​",
            "style": "IPY_MODEL_c6137e38e03144f39fec0c4a59a0ead9",
            "value": "100%"
          }
        },
        "e0fbfd15651e4d61b35ecb043e7a3898": {
          "model_module": "@jupyter-widgets/controls",
          "model_name": "FloatProgressModel",
          "model_module_version": "1.5.0",
          "state": {
            "_dom_classes": [],
            "_model_module": "@jupyter-widgets/controls",
            "_model_module_version": "1.5.0",
            "_model_name": "FloatProgressModel",
            "_view_count": null,
            "_view_module": "@jupyter-widgets/controls",
            "_view_module_version": "1.5.0",
            "_view_name": "ProgressView",
            "bar_style": "success",
            "description": "",
            "description_tooltip": null,
            "layout": "IPY_MODEL_8f5a14551a4b4f029f12689f7083bc42",
            "max": 77916,
            "min": 0,
            "orientation": "horizontal",
            "style": "IPY_MODEL_cd7113108463472a85c0293300c6e7f5",
            "value": 77916
          }
        },
        "bf34e0fbbce84f138696eb62bc88e3e5": {
          "model_module": "@jupyter-widgets/controls",
          "model_name": "HTMLModel",
          "model_module_version": "1.5.0",
          "state": {
            "_dom_classes": [],
            "_model_module": "@jupyter-widgets/controls",
            "_model_module_version": "1.5.0",
            "_model_name": "HTMLModel",
            "_view_count": null,
            "_view_module": "@jupyter-widgets/controls",
            "_view_module_version": "1.5.0",
            "_view_name": "HTMLView",
            "description": "",
            "description_tooltip": null,
            "layout": "IPY_MODEL_9b1c9433dbff4edf89b11a313c2d9cdb",
            "placeholder": "​",
            "style": "IPY_MODEL_9d3a47ceb5944357994cad0abb07b959",
            "value": " 77916/77916 [00:48&lt;00:00, 2526.00it/s]"
          }
        },
        "d2c65367d4d649f78c17dc8ce86e5449": {
          "model_module": "@jupyter-widgets/base",
          "model_name": "LayoutModel",
          "model_module_version": "1.2.0",
          "state": {
            "_model_module": "@jupyter-widgets/base",
            "_model_module_version": "1.2.0",
            "_model_name": "LayoutModel",
            "_view_count": null,
            "_view_module": "@jupyter-widgets/base",
            "_view_module_version": "1.2.0",
            "_view_name": "LayoutView",
            "align_content": null,
            "align_items": null,
            "align_self": null,
            "border": null,
            "bottom": null,
            "display": null,
            "flex": null,
            "flex_flow": null,
            "grid_area": null,
            "grid_auto_columns": null,
            "grid_auto_flow": null,
            "grid_auto_rows": null,
            "grid_column": null,
            "grid_gap": null,
            "grid_row": null,
            "grid_template_areas": null,
            "grid_template_columns": null,
            "grid_template_rows": null,
            "height": null,
            "justify_content": null,
            "justify_items": null,
            "left": null,
            "margin": null,
            "max_height": null,
            "max_width": null,
            "min_height": null,
            "min_width": null,
            "object_fit": null,
            "object_position": null,
            "order": null,
            "overflow": null,
            "overflow_x": null,
            "overflow_y": null,
            "padding": null,
            "right": null,
            "top": null,
            "visibility": null,
            "width": null
          }
        },
        "de0eeadb5a20479c94474ef3f893cc04": {
          "model_module": "@jupyter-widgets/base",
          "model_name": "LayoutModel",
          "model_module_version": "1.2.0",
          "state": {
            "_model_module": "@jupyter-widgets/base",
            "_model_module_version": "1.2.0",
            "_model_name": "LayoutModel",
            "_view_count": null,
            "_view_module": "@jupyter-widgets/base",
            "_view_module_version": "1.2.0",
            "_view_name": "LayoutView",
            "align_content": null,
            "align_items": null,
            "align_self": null,
            "border": null,
            "bottom": null,
            "display": null,
            "flex": null,
            "flex_flow": null,
            "grid_area": null,
            "grid_auto_columns": null,
            "grid_auto_flow": null,
            "grid_auto_rows": null,
            "grid_column": null,
            "grid_gap": null,
            "grid_row": null,
            "grid_template_areas": null,
            "grid_template_columns": null,
            "grid_template_rows": null,
            "height": null,
            "justify_content": null,
            "justify_items": null,
            "left": null,
            "margin": null,
            "max_height": null,
            "max_width": null,
            "min_height": null,
            "min_width": null,
            "object_fit": null,
            "object_position": null,
            "order": null,
            "overflow": null,
            "overflow_x": null,
            "overflow_y": null,
            "padding": null,
            "right": null,
            "top": null,
            "visibility": null,
            "width": null
          }
        },
        "c6137e38e03144f39fec0c4a59a0ead9": {
          "model_module": "@jupyter-widgets/controls",
          "model_name": "DescriptionStyleModel",
          "model_module_version": "1.5.0",
          "state": {
            "_model_module": "@jupyter-widgets/controls",
            "_model_module_version": "1.5.0",
            "_model_name": "DescriptionStyleModel",
            "_view_count": null,
            "_view_module": "@jupyter-widgets/base",
            "_view_module_version": "1.2.0",
            "_view_name": "StyleView",
            "description_width": ""
          }
        },
        "8f5a14551a4b4f029f12689f7083bc42": {
          "model_module": "@jupyter-widgets/base",
          "model_name": "LayoutModel",
          "model_module_version": "1.2.0",
          "state": {
            "_model_module": "@jupyter-widgets/base",
            "_model_module_version": "1.2.0",
            "_model_name": "LayoutModel",
            "_view_count": null,
            "_view_module": "@jupyter-widgets/base",
            "_view_module_version": "1.2.0",
            "_view_name": "LayoutView",
            "align_content": null,
            "align_items": null,
            "align_self": null,
            "border": null,
            "bottom": null,
            "display": null,
            "flex": null,
            "flex_flow": null,
            "grid_area": null,
            "grid_auto_columns": null,
            "grid_auto_flow": null,
            "grid_auto_rows": null,
            "grid_column": null,
            "grid_gap": null,
            "grid_row": null,
            "grid_template_areas": null,
            "grid_template_columns": null,
            "grid_template_rows": null,
            "height": null,
            "justify_content": null,
            "justify_items": null,
            "left": null,
            "margin": null,
            "max_height": null,
            "max_width": null,
            "min_height": null,
            "min_width": null,
            "object_fit": null,
            "object_position": null,
            "order": null,
            "overflow": null,
            "overflow_x": null,
            "overflow_y": null,
            "padding": null,
            "right": null,
            "top": null,
            "visibility": null,
            "width": null
          }
        },
        "cd7113108463472a85c0293300c6e7f5": {
          "model_module": "@jupyter-widgets/controls",
          "model_name": "ProgressStyleModel",
          "model_module_version": "1.5.0",
          "state": {
            "_model_module": "@jupyter-widgets/controls",
            "_model_module_version": "1.5.0",
            "_model_name": "ProgressStyleModel",
            "_view_count": null,
            "_view_module": "@jupyter-widgets/base",
            "_view_module_version": "1.2.0",
            "_view_name": "StyleView",
            "bar_color": null,
            "description_width": ""
          }
        },
        "9b1c9433dbff4edf89b11a313c2d9cdb": {
          "model_module": "@jupyter-widgets/base",
          "model_name": "LayoutModel",
          "model_module_version": "1.2.0",
          "state": {
            "_model_module": "@jupyter-widgets/base",
            "_model_module_version": "1.2.0",
            "_model_name": "LayoutModel",
            "_view_count": null,
            "_view_module": "@jupyter-widgets/base",
            "_view_module_version": "1.2.0",
            "_view_name": "LayoutView",
            "align_content": null,
            "align_items": null,
            "align_self": null,
            "border": null,
            "bottom": null,
            "display": null,
            "flex": null,
            "flex_flow": null,
            "grid_area": null,
            "grid_auto_columns": null,
            "grid_auto_flow": null,
            "grid_auto_rows": null,
            "grid_column": null,
            "grid_gap": null,
            "grid_row": null,
            "grid_template_areas": null,
            "grid_template_columns": null,
            "grid_template_rows": null,
            "height": null,
            "justify_content": null,
            "justify_items": null,
            "left": null,
            "margin": null,
            "max_height": null,
            "max_width": null,
            "min_height": null,
            "min_width": null,
            "object_fit": null,
            "object_position": null,
            "order": null,
            "overflow": null,
            "overflow_x": null,
            "overflow_y": null,
            "padding": null,
            "right": null,
            "top": null,
            "visibility": null,
            "width": null
          }
        },
        "9d3a47ceb5944357994cad0abb07b959": {
          "model_module": "@jupyter-widgets/controls",
          "model_name": "DescriptionStyleModel",
          "model_module_version": "1.5.0",
          "state": {
            "_model_module": "@jupyter-widgets/controls",
            "_model_module_version": "1.5.0",
            "_model_name": "DescriptionStyleModel",
            "_view_count": null,
            "_view_module": "@jupyter-widgets/base",
            "_view_module_version": "1.2.0",
            "_view_name": "StyleView",
            "description_width": ""
          }
        },
        "b10e38c1a747431ea8799b2d9b76f654": {
          "model_module": "@jupyter-widgets/controls",
          "model_name": "HBoxModel",
          "model_module_version": "1.5.0",
          "state": {
            "_dom_classes": [],
            "_model_module": "@jupyter-widgets/controls",
            "_model_module_version": "1.5.0",
            "_model_name": "HBoxModel",
            "_view_count": null,
            "_view_module": "@jupyter-widgets/controls",
            "_view_module_version": "1.5.0",
            "_view_name": "HBoxView",
            "box_style": "",
            "children": [
              "IPY_MODEL_43689e3e5efd41f7b6926a363cdb5bbc",
              "IPY_MODEL_c318f5ec3ee747db903b0626021c2935",
              "IPY_MODEL_4ea939499dd04ad6a94ab48e511b1900"
            ],
            "layout": "IPY_MODEL_72f1fcd21ddf4285be02cfac97342225"
          }
        },
        "43689e3e5efd41f7b6926a363cdb5bbc": {
          "model_module": "@jupyter-widgets/controls",
          "model_name": "HTMLModel",
          "model_module_version": "1.5.0",
          "state": {
            "_dom_classes": [],
            "_model_module": "@jupyter-widgets/controls",
            "_model_module_version": "1.5.0",
            "_model_name": "HTMLModel",
            "_view_count": null,
            "_view_module": "@jupyter-widgets/controls",
            "_view_module_version": "1.5.0",
            "_view_name": "HTMLView",
            "description": "",
            "description_tooltip": null,
            "layout": "IPY_MODEL_1b0eb7f2695f4ce39f49e23d1705c766",
            "placeholder": "​",
            "style": "IPY_MODEL_2a4c88b982db4cf1880d2e2445ef09c0",
            "value": "100%"
          }
        },
        "c318f5ec3ee747db903b0626021c2935": {
          "model_module": "@jupyter-widgets/controls",
          "model_name": "FloatProgressModel",
          "model_module_version": "1.5.0",
          "state": {
            "_dom_classes": [],
            "_model_module": "@jupyter-widgets/controls",
            "_model_module_version": "1.5.0",
            "_model_name": "FloatProgressModel",
            "_view_count": null,
            "_view_module": "@jupyter-widgets/controls",
            "_view_module_version": "1.5.0",
            "_view_name": "ProgressView",
            "bar_style": "success",
            "description": "",
            "description_tooltip": null,
            "layout": "IPY_MODEL_05d6a7036f2245fb9f43ff3a73a51358",
            "max": 832,
            "min": 0,
            "orientation": "horizontal",
            "style": "IPY_MODEL_f54e1c5496804916ad331c906fd89e44",
            "value": 832
          }
        },
        "4ea939499dd04ad6a94ab48e511b1900": {
          "model_module": "@jupyter-widgets/controls",
          "model_name": "HTMLModel",
          "model_module_version": "1.5.0",
          "state": {
            "_dom_classes": [],
            "_model_module": "@jupyter-widgets/controls",
            "_model_module_version": "1.5.0",
            "_model_name": "HTMLModel",
            "_view_count": null,
            "_view_module": "@jupyter-widgets/controls",
            "_view_module_version": "1.5.0",
            "_view_name": "HTMLView",
            "description": "",
            "description_tooltip": null,
            "layout": "IPY_MODEL_4c6d1cacfa4f4fae827e64e60decd9c5",
            "placeholder": "​",
            "style": "IPY_MODEL_e95b003bcedd4f56925861a14db904d9",
            "value": " 832/832 [00:00&lt;00:00, 11784.54it/s]"
          }
        },
        "72f1fcd21ddf4285be02cfac97342225": {
          "model_module": "@jupyter-widgets/base",
          "model_name": "LayoutModel",
          "model_module_version": "1.2.0",
          "state": {
            "_model_module": "@jupyter-widgets/base",
            "_model_module_version": "1.2.0",
            "_model_name": "LayoutModel",
            "_view_count": null,
            "_view_module": "@jupyter-widgets/base",
            "_view_module_version": "1.2.0",
            "_view_name": "LayoutView",
            "align_content": null,
            "align_items": null,
            "align_self": null,
            "border": null,
            "bottom": null,
            "display": null,
            "flex": null,
            "flex_flow": null,
            "grid_area": null,
            "grid_auto_columns": null,
            "grid_auto_flow": null,
            "grid_auto_rows": null,
            "grid_column": null,
            "grid_gap": null,
            "grid_row": null,
            "grid_template_areas": null,
            "grid_template_columns": null,
            "grid_template_rows": null,
            "height": null,
            "justify_content": null,
            "justify_items": null,
            "left": null,
            "margin": null,
            "max_height": null,
            "max_width": null,
            "min_height": null,
            "min_width": null,
            "object_fit": null,
            "object_position": null,
            "order": null,
            "overflow": null,
            "overflow_x": null,
            "overflow_y": null,
            "padding": null,
            "right": null,
            "top": null,
            "visibility": null,
            "width": null
          }
        },
        "1b0eb7f2695f4ce39f49e23d1705c766": {
          "model_module": "@jupyter-widgets/base",
          "model_name": "LayoutModel",
          "model_module_version": "1.2.0",
          "state": {
            "_model_module": "@jupyter-widgets/base",
            "_model_module_version": "1.2.0",
            "_model_name": "LayoutModel",
            "_view_count": null,
            "_view_module": "@jupyter-widgets/base",
            "_view_module_version": "1.2.0",
            "_view_name": "LayoutView",
            "align_content": null,
            "align_items": null,
            "align_self": null,
            "border": null,
            "bottom": null,
            "display": null,
            "flex": null,
            "flex_flow": null,
            "grid_area": null,
            "grid_auto_columns": null,
            "grid_auto_flow": null,
            "grid_auto_rows": null,
            "grid_column": null,
            "grid_gap": null,
            "grid_row": null,
            "grid_template_areas": null,
            "grid_template_columns": null,
            "grid_template_rows": null,
            "height": null,
            "justify_content": null,
            "justify_items": null,
            "left": null,
            "margin": null,
            "max_height": null,
            "max_width": null,
            "min_height": null,
            "min_width": null,
            "object_fit": null,
            "object_position": null,
            "order": null,
            "overflow": null,
            "overflow_x": null,
            "overflow_y": null,
            "padding": null,
            "right": null,
            "top": null,
            "visibility": null,
            "width": null
          }
        },
        "2a4c88b982db4cf1880d2e2445ef09c0": {
          "model_module": "@jupyter-widgets/controls",
          "model_name": "DescriptionStyleModel",
          "model_module_version": "1.5.0",
          "state": {
            "_model_module": "@jupyter-widgets/controls",
            "_model_module_version": "1.5.0",
            "_model_name": "DescriptionStyleModel",
            "_view_count": null,
            "_view_module": "@jupyter-widgets/base",
            "_view_module_version": "1.2.0",
            "_view_name": "StyleView",
            "description_width": ""
          }
        },
        "05d6a7036f2245fb9f43ff3a73a51358": {
          "model_module": "@jupyter-widgets/base",
          "model_name": "LayoutModel",
          "model_module_version": "1.2.0",
          "state": {
            "_model_module": "@jupyter-widgets/base",
            "_model_module_version": "1.2.0",
            "_model_name": "LayoutModel",
            "_view_count": null,
            "_view_module": "@jupyter-widgets/base",
            "_view_module_version": "1.2.0",
            "_view_name": "LayoutView",
            "align_content": null,
            "align_items": null,
            "align_self": null,
            "border": null,
            "bottom": null,
            "display": null,
            "flex": null,
            "flex_flow": null,
            "grid_area": null,
            "grid_auto_columns": null,
            "grid_auto_flow": null,
            "grid_auto_rows": null,
            "grid_column": null,
            "grid_gap": null,
            "grid_row": null,
            "grid_template_areas": null,
            "grid_template_columns": null,
            "grid_template_rows": null,
            "height": null,
            "justify_content": null,
            "justify_items": null,
            "left": null,
            "margin": null,
            "max_height": null,
            "max_width": null,
            "min_height": null,
            "min_width": null,
            "object_fit": null,
            "object_position": null,
            "order": null,
            "overflow": null,
            "overflow_x": null,
            "overflow_y": null,
            "padding": null,
            "right": null,
            "top": null,
            "visibility": null,
            "width": null
          }
        },
        "f54e1c5496804916ad331c906fd89e44": {
          "model_module": "@jupyter-widgets/controls",
          "model_name": "ProgressStyleModel",
          "model_module_version": "1.5.0",
          "state": {
            "_model_module": "@jupyter-widgets/controls",
            "_model_module_version": "1.5.0",
            "_model_name": "ProgressStyleModel",
            "_view_count": null,
            "_view_module": "@jupyter-widgets/base",
            "_view_module_version": "1.2.0",
            "_view_name": "StyleView",
            "bar_color": null,
            "description_width": ""
          }
        },
        "4c6d1cacfa4f4fae827e64e60decd9c5": {
          "model_module": "@jupyter-widgets/base",
          "model_name": "LayoutModel",
          "model_module_version": "1.2.0",
          "state": {
            "_model_module": "@jupyter-widgets/base",
            "_model_module_version": "1.2.0",
            "_model_name": "LayoutModel",
            "_view_count": null,
            "_view_module": "@jupyter-widgets/base",
            "_view_module_version": "1.2.0",
            "_view_name": "LayoutView",
            "align_content": null,
            "align_items": null,
            "align_self": null,
            "border": null,
            "bottom": null,
            "display": null,
            "flex": null,
            "flex_flow": null,
            "grid_area": null,
            "grid_auto_columns": null,
            "grid_auto_flow": null,
            "grid_auto_rows": null,
            "grid_column": null,
            "grid_gap": null,
            "grid_row": null,
            "grid_template_areas": null,
            "grid_template_columns": null,
            "grid_template_rows": null,
            "height": null,
            "justify_content": null,
            "justify_items": null,
            "left": null,
            "margin": null,
            "max_height": null,
            "max_width": null,
            "min_height": null,
            "min_width": null,
            "object_fit": null,
            "object_position": null,
            "order": null,
            "overflow": null,
            "overflow_x": null,
            "overflow_y": null,
            "padding": null,
            "right": null,
            "top": null,
            "visibility": null,
            "width": null
          }
        },
        "e95b003bcedd4f56925861a14db904d9": {
          "model_module": "@jupyter-widgets/controls",
          "model_name": "DescriptionStyleModel",
          "model_module_version": "1.5.0",
          "state": {
            "_model_module": "@jupyter-widgets/controls",
            "_model_module_version": "1.5.0",
            "_model_name": "DescriptionStyleModel",
            "_view_count": null,
            "_view_module": "@jupyter-widgets/base",
            "_view_module_version": "1.2.0",
            "_view_name": "StyleView",
            "description_width": ""
          }
        },
        "a94744699aba4294b3ca1d9bed9ab617": {
          "model_module": "@jupyter-widgets/controls",
          "model_name": "HBoxModel",
          "model_module_version": "1.5.0",
          "state": {
            "_dom_classes": [],
            "_model_module": "@jupyter-widgets/controls",
            "_model_module_version": "1.5.0",
            "_model_name": "HBoxModel",
            "_view_count": null,
            "_view_module": "@jupyter-widgets/controls",
            "_view_module_version": "1.5.0",
            "_view_name": "HBoxView",
            "box_style": "",
            "children": [
              "IPY_MODEL_507e695b97b3466d943d750e91dba4ac",
              "IPY_MODEL_53aabf0e5a124507ae249538eb8f063e",
              "IPY_MODEL_04c90c8d93654fc3abb72419e1701af8"
            ],
            "layout": "IPY_MODEL_79cf5c43b50341fe90daec2b499ab779"
          }
        },
        "507e695b97b3466d943d750e91dba4ac": {
          "model_module": "@jupyter-widgets/controls",
          "model_name": "HTMLModel",
          "model_module_version": "1.5.0",
          "state": {
            "_dom_classes": [],
            "_model_module": "@jupyter-widgets/controls",
            "_model_module_version": "1.5.0",
            "_model_name": "HTMLModel",
            "_view_count": null,
            "_view_module": "@jupyter-widgets/controls",
            "_view_module_version": "1.5.0",
            "_view_name": "HTMLView",
            "description": "",
            "description_tooltip": null,
            "layout": "IPY_MODEL_e462144b66e54c00be75425c67c8c22f",
            "placeholder": "​",
            "style": "IPY_MODEL_4ce8009fe25a406aac225adfb349225c",
            "value": "100%"
          }
        },
        "53aabf0e5a124507ae249538eb8f063e": {
          "model_module": "@jupyter-widgets/controls",
          "model_name": "FloatProgressModel",
          "model_module_version": "1.5.0",
          "state": {
            "_dom_classes": [],
            "_model_module": "@jupyter-widgets/controls",
            "_model_module_version": "1.5.0",
            "_model_name": "FloatProgressModel",
            "_view_count": null,
            "_view_module": "@jupyter-widgets/controls",
            "_view_module_version": "1.5.0",
            "_view_name": "ProgressView",
            "bar_style": "success",
            "description": "",
            "description_tooltip": null,
            "layout": "IPY_MODEL_dea519e2a5ea4b04bdf978ca20dc4e93",
            "max": 10,
            "min": 0,
            "orientation": "horizontal",
            "style": "IPY_MODEL_e881a14969d24dcb81f7cfdc7d681a35",
            "value": 10
          }
        },
        "04c90c8d93654fc3abb72419e1701af8": {
          "model_module": "@jupyter-widgets/controls",
          "model_name": "HTMLModel",
          "model_module_version": "1.5.0",
          "state": {
            "_dom_classes": [],
            "_model_module": "@jupyter-widgets/controls",
            "_model_module_version": "1.5.0",
            "_model_name": "HTMLModel",
            "_view_count": null,
            "_view_module": "@jupyter-widgets/controls",
            "_view_module_version": "1.5.0",
            "_view_name": "HTMLView",
            "description": "",
            "description_tooltip": null,
            "layout": "IPY_MODEL_3578dd9ecab14d5e9f2cc6b6044cb96d",
            "placeholder": "​",
            "style": "IPY_MODEL_1b207e0db8ae441b9ebb1e7e891e49d0",
            "value": " 10/10 [15:46&lt;00:00, 95.29s/it]"
          }
        },
        "79cf5c43b50341fe90daec2b499ab779": {
          "model_module": "@jupyter-widgets/base",
          "model_name": "LayoutModel",
          "model_module_version": "1.2.0",
          "state": {
            "_model_module": "@jupyter-widgets/base",
            "_model_module_version": "1.2.0",
            "_model_name": "LayoutModel",
            "_view_count": null,
            "_view_module": "@jupyter-widgets/base",
            "_view_module_version": "1.2.0",
            "_view_name": "LayoutView",
            "align_content": null,
            "align_items": null,
            "align_self": null,
            "border": null,
            "bottom": null,
            "display": null,
            "flex": null,
            "flex_flow": null,
            "grid_area": null,
            "grid_auto_columns": null,
            "grid_auto_flow": null,
            "grid_auto_rows": null,
            "grid_column": null,
            "grid_gap": null,
            "grid_row": null,
            "grid_template_areas": null,
            "grid_template_columns": null,
            "grid_template_rows": null,
            "height": null,
            "justify_content": null,
            "justify_items": null,
            "left": null,
            "margin": null,
            "max_height": null,
            "max_width": null,
            "min_height": null,
            "min_width": null,
            "object_fit": null,
            "object_position": null,
            "order": null,
            "overflow": null,
            "overflow_x": null,
            "overflow_y": null,
            "padding": null,
            "right": null,
            "top": null,
            "visibility": null,
            "width": null
          }
        },
        "e462144b66e54c00be75425c67c8c22f": {
          "model_module": "@jupyter-widgets/base",
          "model_name": "LayoutModel",
          "model_module_version": "1.2.0",
          "state": {
            "_model_module": "@jupyter-widgets/base",
            "_model_module_version": "1.2.0",
            "_model_name": "LayoutModel",
            "_view_count": null,
            "_view_module": "@jupyter-widgets/base",
            "_view_module_version": "1.2.0",
            "_view_name": "LayoutView",
            "align_content": null,
            "align_items": null,
            "align_self": null,
            "border": null,
            "bottom": null,
            "display": null,
            "flex": null,
            "flex_flow": null,
            "grid_area": null,
            "grid_auto_columns": null,
            "grid_auto_flow": null,
            "grid_auto_rows": null,
            "grid_column": null,
            "grid_gap": null,
            "grid_row": null,
            "grid_template_areas": null,
            "grid_template_columns": null,
            "grid_template_rows": null,
            "height": null,
            "justify_content": null,
            "justify_items": null,
            "left": null,
            "margin": null,
            "max_height": null,
            "max_width": null,
            "min_height": null,
            "min_width": null,
            "object_fit": null,
            "object_position": null,
            "order": null,
            "overflow": null,
            "overflow_x": null,
            "overflow_y": null,
            "padding": null,
            "right": null,
            "top": null,
            "visibility": null,
            "width": null
          }
        },
        "4ce8009fe25a406aac225adfb349225c": {
          "model_module": "@jupyter-widgets/controls",
          "model_name": "DescriptionStyleModel",
          "model_module_version": "1.5.0",
          "state": {
            "_model_module": "@jupyter-widgets/controls",
            "_model_module_version": "1.5.0",
            "_model_name": "DescriptionStyleModel",
            "_view_count": null,
            "_view_module": "@jupyter-widgets/base",
            "_view_module_version": "1.2.0",
            "_view_name": "StyleView",
            "description_width": ""
          }
        },
        "dea519e2a5ea4b04bdf978ca20dc4e93": {
          "model_module": "@jupyter-widgets/base",
          "model_name": "LayoutModel",
          "model_module_version": "1.2.0",
          "state": {
            "_model_module": "@jupyter-widgets/base",
            "_model_module_version": "1.2.0",
            "_model_name": "LayoutModel",
            "_view_count": null,
            "_view_module": "@jupyter-widgets/base",
            "_view_module_version": "1.2.0",
            "_view_name": "LayoutView",
            "align_content": null,
            "align_items": null,
            "align_self": null,
            "border": null,
            "bottom": null,
            "display": null,
            "flex": null,
            "flex_flow": null,
            "grid_area": null,
            "grid_auto_columns": null,
            "grid_auto_flow": null,
            "grid_auto_rows": null,
            "grid_column": null,
            "grid_gap": null,
            "grid_row": null,
            "grid_template_areas": null,
            "grid_template_columns": null,
            "grid_template_rows": null,
            "height": null,
            "justify_content": null,
            "justify_items": null,
            "left": null,
            "margin": null,
            "max_height": null,
            "max_width": null,
            "min_height": null,
            "min_width": null,
            "object_fit": null,
            "object_position": null,
            "order": null,
            "overflow": null,
            "overflow_x": null,
            "overflow_y": null,
            "padding": null,
            "right": null,
            "top": null,
            "visibility": null,
            "width": null
          }
        },
        "e881a14969d24dcb81f7cfdc7d681a35": {
          "model_module": "@jupyter-widgets/controls",
          "model_name": "ProgressStyleModel",
          "model_module_version": "1.5.0",
          "state": {
            "_model_module": "@jupyter-widgets/controls",
            "_model_module_version": "1.5.0",
            "_model_name": "ProgressStyleModel",
            "_view_count": null,
            "_view_module": "@jupyter-widgets/base",
            "_view_module_version": "1.2.0",
            "_view_name": "StyleView",
            "bar_color": null,
            "description_width": ""
          }
        },
        "3578dd9ecab14d5e9f2cc6b6044cb96d": {
          "model_module": "@jupyter-widgets/base",
          "model_name": "LayoutModel",
          "model_module_version": "1.2.0",
          "state": {
            "_model_module": "@jupyter-widgets/base",
            "_model_module_version": "1.2.0",
            "_model_name": "LayoutModel",
            "_view_count": null,
            "_view_module": "@jupyter-widgets/base",
            "_view_module_version": "1.2.0",
            "_view_name": "LayoutView",
            "align_content": null,
            "align_items": null,
            "align_self": null,
            "border": null,
            "bottom": null,
            "display": null,
            "flex": null,
            "flex_flow": null,
            "grid_area": null,
            "grid_auto_columns": null,
            "grid_auto_flow": null,
            "grid_auto_rows": null,
            "grid_column": null,
            "grid_gap": null,
            "grid_row": null,
            "grid_template_areas": null,
            "grid_template_columns": null,
            "grid_template_rows": null,
            "height": null,
            "justify_content": null,
            "justify_items": null,
            "left": null,
            "margin": null,
            "max_height": null,
            "max_width": null,
            "min_height": null,
            "min_width": null,
            "object_fit": null,
            "object_position": null,
            "order": null,
            "overflow": null,
            "overflow_x": null,
            "overflow_y": null,
            "padding": null,
            "right": null,
            "top": null,
            "visibility": null,
            "width": null
          }
        },
        "1b207e0db8ae441b9ebb1e7e891e49d0": {
          "model_module": "@jupyter-widgets/controls",
          "model_name": "DescriptionStyleModel",
          "model_module_version": "1.5.0",
          "state": {
            "_model_module": "@jupyter-widgets/controls",
            "_model_module_version": "1.5.0",
            "_model_name": "DescriptionStyleModel",
            "_view_count": null,
            "_view_module": "@jupyter-widgets/base",
            "_view_module_version": "1.2.0",
            "_view_name": "StyleView",
            "description_width": ""
          }
        }
      }
    }
  },
  "cells": [
    {
      "cell_type": "code",
      "execution_count": null,
      "metadata": {
        "id": "fsz2Dnkuh8p6",
        "colab": {
          "base_uri": "https://localhost:8080/"
        },
        "outputId": "04facf8c-75be-41b8-e60f-45ce2fafdb9a"
      },
      "outputs": [
        {
          "output_type": "stream",
          "name": "stdout",
          "text": [
            "Collecting torchmetrics\n",
            "  Downloading torchmetrics-0.7.2-py3-none-any.whl (397 kB)\n",
            "\u001b[?25l\r\u001b[K     |▉                               | 10 kB 25.0 MB/s eta 0:00:01\r\u001b[K     |█▋                              | 20 kB 7.7 MB/s eta 0:00:01\r\u001b[K     |██▌                             | 30 kB 7.0 MB/s eta 0:00:01\r\u001b[K     |███▎                            | 40 kB 6.6 MB/s eta 0:00:01\r\u001b[K     |████▏                           | 51 kB 3.4 MB/s eta 0:00:01\r\u001b[K     |█████                           | 61 kB 4.0 MB/s eta 0:00:01\r\u001b[K     |█████▊                          | 71 kB 4.3 MB/s eta 0:00:01\r\u001b[K     |██████▋                         | 81 kB 3.3 MB/s eta 0:00:01\r\u001b[K     |███████▍                        | 92 kB 3.7 MB/s eta 0:00:01\r\u001b[K     |████████▎                       | 102 kB 4.1 MB/s eta 0:00:01\r\u001b[K     |█████████                       | 112 kB 4.1 MB/s eta 0:00:01\r\u001b[K     |██████████                      | 122 kB 4.1 MB/s eta 0:00:01\r\u001b[K     |██████████▊                     | 133 kB 4.1 MB/s eta 0:00:01\r\u001b[K     |███████████▌                    | 143 kB 4.1 MB/s eta 0:00:01\r\u001b[K     |████████████▍                   | 153 kB 4.1 MB/s eta 0:00:01\r\u001b[K     |█████████████▏                  | 163 kB 4.1 MB/s eta 0:00:01\r\u001b[K     |██████████████                  | 174 kB 4.1 MB/s eta 0:00:01\r\u001b[K     |██████████████▉                 | 184 kB 4.1 MB/s eta 0:00:01\r\u001b[K     |███████████████▊                | 194 kB 4.1 MB/s eta 0:00:01\r\u001b[K     |████████████████▌               | 204 kB 4.1 MB/s eta 0:00:01\r\u001b[K     |█████████████████▎              | 215 kB 4.1 MB/s eta 0:00:01\r\u001b[K     |██████████████████▏             | 225 kB 4.1 MB/s eta 0:00:01\r\u001b[K     |███████████████████             | 235 kB 4.1 MB/s eta 0:00:01\r\u001b[K     |███████████████████▉            | 245 kB 4.1 MB/s eta 0:00:01\r\u001b[K     |████████████████████▋           | 256 kB 4.1 MB/s eta 0:00:01\r\u001b[K     |█████████████████████▌          | 266 kB 4.1 MB/s eta 0:00:01\r\u001b[K     |██████████████████████▎         | 276 kB 4.1 MB/s eta 0:00:01\r\u001b[K     |███████████████████████         | 286 kB 4.1 MB/s eta 0:00:01\r\u001b[K     |████████████████████████        | 296 kB 4.1 MB/s eta 0:00:01\r\u001b[K     |████████████████████████▊       | 307 kB 4.1 MB/s eta 0:00:01\r\u001b[K     |█████████████████████████▋      | 317 kB 4.1 MB/s eta 0:00:01\r\u001b[K     |██████████████████████████▍     | 327 kB 4.1 MB/s eta 0:00:01\r\u001b[K     |███████████████████████████▎    | 337 kB 4.1 MB/s eta 0:00:01\r\u001b[K     |████████████████████████████    | 348 kB 4.1 MB/s eta 0:00:01\r\u001b[K     |████████████████████████████▉   | 358 kB 4.1 MB/s eta 0:00:01\r\u001b[K     |█████████████████████████████▊  | 368 kB 4.1 MB/s eta 0:00:01\r\u001b[K     |██████████████████████████████▌ | 378 kB 4.1 MB/s eta 0:00:01\r\u001b[K     |███████████████████████████████▍| 389 kB 4.1 MB/s eta 0:00:01\r\u001b[K     |████████████████████████████████| 397 kB 4.1 MB/s \n",
            "\u001b[?25hCollecting pyDeprecate==0.3.*\n",
            "  Downloading pyDeprecate-0.3.2-py3-none-any.whl (10 kB)\n",
            "Requirement already satisfied: torch>=1.3.1 in /usr/local/lib/python3.7/dist-packages (from torchmetrics) (1.10.0+cu111)\n",
            "Requirement already satisfied: numpy>=1.17.2 in /usr/local/lib/python3.7/dist-packages (from torchmetrics) (1.21.5)\n",
            "Requirement already satisfied: packaging in /usr/local/lib/python3.7/dist-packages (from torchmetrics) (21.3)\n",
            "Requirement already satisfied: typing-extensions in /usr/local/lib/python3.7/dist-packages (from torch>=1.3.1->torchmetrics) (3.10.0.2)\n",
            "Requirement already satisfied: pyparsing!=3.0.5,>=2.0.2 in /usr/local/lib/python3.7/dist-packages (from packaging->torchmetrics) (3.0.7)\n",
            "Installing collected packages: pyDeprecate, torchmetrics\n",
            "Successfully installed pyDeprecate-0.3.2 torchmetrics-0.7.2\n"
          ]
        }
      ],
      "source": [
        "!pip install torchmetrics"
      ]
    },
    {
      "cell_type": "code",
      "source": [
        "!pip install ipdb"
      ],
      "metadata": {
        "id": "eMU9hlxAiGO5",
        "colab": {
          "base_uri": "https://localhost:8080/",
          "height": 887
        },
        "outputId": "fa26fe5b-e607-4669-84a3-7d31858e6bd5"
      },
      "execution_count": null,
      "outputs": [
        {
          "output_type": "stream",
          "name": "stdout",
          "text": [
            "Collecting ipdb\n",
            "  Downloading ipdb-0.13.9.tar.gz (16 kB)\n",
            "Requirement already satisfied: setuptools in /usr/local/lib/python3.7/dist-packages (from ipdb) (57.4.0)\n",
            "Collecting ipython>=7.17.0\n",
            "  Downloading ipython-7.32.0-py3-none-any.whl (793 kB)\n",
            "\u001b[K     |████████████████████████████████| 793 kB 4.1 MB/s \n",
            "\u001b[?25hCollecting toml>=0.10.2\n",
            "  Downloading toml-0.10.2-py2.py3-none-any.whl (16 kB)\n",
            "Requirement already satisfied: decorator in /usr/local/lib/python3.7/dist-packages (from ipdb) (4.4.2)\n",
            "Requirement already satisfied: pickleshare in /usr/local/lib/python3.7/dist-packages (from ipython>=7.17.0->ipdb) (0.7.5)\n",
            "Collecting prompt-toolkit!=3.0.0,!=3.0.1,<3.1.0,>=2.0.0\n",
            "  Downloading prompt_toolkit-3.0.28-py3-none-any.whl (380 kB)\n",
            "\u001b[K     |████████████████████████████████| 380 kB 44.7 MB/s \n",
            "\u001b[?25hRequirement already satisfied: backcall in /usr/local/lib/python3.7/dist-packages (from ipython>=7.17.0->ipdb) (0.2.0)\n",
            "Requirement already satisfied: matplotlib-inline in /usr/local/lib/python3.7/dist-packages (from ipython>=7.17.0->ipdb) (0.1.3)\n",
            "Requirement already satisfied: traitlets>=4.2 in /usr/local/lib/python3.7/dist-packages (from ipython>=7.17.0->ipdb) (5.1.1)\n",
            "Requirement already satisfied: pygments in /usr/local/lib/python3.7/dist-packages (from ipython>=7.17.0->ipdb) (2.6.1)\n",
            "Requirement already satisfied: jedi>=0.16 in /usr/local/lib/python3.7/dist-packages (from ipython>=7.17.0->ipdb) (0.18.1)\n",
            "Requirement already satisfied: pexpect>4.3 in /usr/local/lib/python3.7/dist-packages (from ipython>=7.17.0->ipdb) (4.8.0)\n",
            "Requirement already satisfied: parso<0.9.0,>=0.8.0 in /usr/local/lib/python3.7/dist-packages (from jedi>=0.16->ipython>=7.17.0->ipdb) (0.8.3)\n",
            "Requirement already satisfied: ptyprocess>=0.5 in /usr/local/lib/python3.7/dist-packages (from pexpect>4.3->ipython>=7.17.0->ipdb) (0.7.0)\n",
            "Requirement already satisfied: wcwidth in /usr/local/lib/python3.7/dist-packages (from prompt-toolkit!=3.0.0,!=3.0.1,<3.1.0,>=2.0.0->ipython>=7.17.0->ipdb) (0.2.5)\n",
            "Building wheels for collected packages: ipdb\n",
            "  Building wheel for ipdb (setup.py) ... \u001b[?25l\u001b[?25hdone\n",
            "  Created wheel for ipdb: filename=ipdb-0.13.9-py3-none-any.whl size=11648 sha256=a2d9fb281ca050f1ae5d842e216ccc7a3ee86f30317e376dac81284c2e73a03a\n",
            "  Stored in directory: /root/.cache/pip/wheels/65/cd/cc/aaf92acae337a28fdd2aa4d632196a59745c8c39f76eaeed01\n",
            "Successfully built ipdb\n",
            "Installing collected packages: prompt-toolkit, toml, ipython, ipdb\n",
            "  Attempting uninstall: prompt-toolkit\n",
            "    Found existing installation: prompt-toolkit 1.0.18\n",
            "    Uninstalling prompt-toolkit-1.0.18:\n",
            "      Successfully uninstalled prompt-toolkit-1.0.18\n",
            "  Attempting uninstall: ipython\n",
            "    Found existing installation: ipython 5.5.0\n",
            "    Uninstalling ipython-5.5.0:\n",
            "      Successfully uninstalled ipython-5.5.0\n",
            "\u001b[31mERROR: pip's dependency resolver does not currently take into account all the packages that are installed. This behaviour is the source of the following dependency conflicts.\n",
            "jupyter-console 5.2.0 requires prompt-toolkit<2.0.0,>=1.0.0, but you have prompt-toolkit 3.0.28 which is incompatible.\n",
            "google-colab 1.0.0 requires ipython~=5.5.0, but you have ipython 7.32.0 which is incompatible.\u001b[0m\n",
            "Successfully installed ipdb-0.13.9 ipython-7.32.0 prompt-toolkit-3.0.28 toml-0.10.2\n"
          ]
        },
        {
          "output_type": "display_data",
          "data": {
            "application/vnd.colab-display-data+json": {
              "pip_warning": {
                "packages": [
                  "IPython",
                  "prompt_toolkit"
                ]
              }
            }
          },
          "metadata": {}
        }
      ]
    },
    {
      "cell_type": "code",
      "source": [
        "from tqdm.auto import tqdm\n",
        "import pandas as pd\n",
        "import numpy as np\n",
        "from string import punctuation\n",
        "from collections import Counter\n",
        "import pickle\n",
        "from sklearn.preprocessing import LabelEncoder\n",
        "from sklearn.model_selection import train_test_split\n",
        "from sklearn.metrics import accuracy_score\n",
        "from sklearn.utils import shuffle\n",
        "import torch\n",
        "import torch.nn as nn\n",
        "import torch.nn.functional as F\n",
        "from torch.utils.data import Dataset, DataLoader, RandomSampler, SequentialSampler\n",
        "from torch.nn.utils.rnn import pad_sequence\n",
        "import torch.optim as optim\n",
        "from torchmetrics import F1\n",
        "from torchmetrics.functional import f1, recall\n",
        "from sklearn.preprocessing import LabelEncoder, OneHotEncoder\n",
        "from google.colab import drive\n",
        "drive.mount('/content/gdrive')"
      ],
      "metadata": {
        "id": "1A1UToOliIR-",
        "colab": {
          "base_uri": "https://localhost:8080/"
        },
        "outputId": "e25af2f0-1e5c-4279-dcab-41d32d4d6fca"
      },
      "execution_count": null,
      "outputs": [
        {
          "output_type": "stream",
          "name": "stdout",
          "text": [
            "Mounted at /content/gdrive\n"
          ]
        }
      ]
    },
    {
      "cell_type": "markdown",
      "source": [
        "## Скачивание и подготовка данных"
      ],
      "metadata": {
        "id": "y96kvwyavEMZ"
      }
    },
    {
      "cell_type": "code",
      "source": [
        "train_data = pd.read_csv('/content/gdrive/MyDrive/data/train.csv')\n",
        "train_data = train_data[train_data['Class'] != 'Human']"
      ],
      "metadata": {
        "id": "sJlw_WPgjYm7"
      },
      "execution_count": null,
      "outputs": []
    },
    {
      "cell_type": "code",
      "source": [
        "val_data =  pd.read_csv('/content/gdrive/MyDrive/data/val.csv')\n",
        "val_data = val_data[val_data['Class'] != 'Human']"
      ],
      "metadata": {
        "id": "PrWeOq-mibZi"
      },
      "execution_count": null,
      "outputs": []
    },
    {
      "cell_type": "code",
      "source": [
        "vocab = Counter()\n",
        "for text in tqdm(train_data.Text):\n",
        "    for symbol in text:\n",
        "        if symbol is not \"\\n\":\n",
        "            vocab.update(list(symbol))\n",
        "print('всего уникальных символов:', len(vocab))"
      ],
      "metadata": {
        "id": "Wzjcstrdj-QE",
        "colab": {
          "base_uri": "https://localhost:8080/",
          "height": 67,
          "referenced_widgets": [
            "878a3a055aa84c2aa849c4b8d8a7670a",
            "c23958103eb84868ac13fb6bcf7c6f00",
            "e0fbfd15651e4d61b35ecb043e7a3898",
            "bf34e0fbbce84f138696eb62bc88e3e5",
            "d2c65367d4d649f78c17dc8ce86e5449",
            "de0eeadb5a20479c94474ef3f893cc04",
            "c6137e38e03144f39fec0c4a59a0ead9",
            "8f5a14551a4b4f029f12689f7083bc42",
            "cd7113108463472a85c0293300c6e7f5",
            "9b1c9433dbff4edf89b11a313c2d9cdb",
            "9d3a47ceb5944357994cad0abb07b959"
          ]
        },
        "outputId": "bc31f041-c932-43d2-8614-e1966c01e47d"
      },
      "execution_count": null,
      "outputs": [
        {
          "output_type": "display_data",
          "data": {
            "text/plain": [
              "  0%|          | 0/77916 [00:00<?, ?it/s]"
            ],
            "application/vnd.jupyter.widget-view+json": {
              "version_major": 2,
              "version_minor": 0,
              "model_id": "878a3a055aa84c2aa849c4b8d8a7670a"
            }
          },
          "metadata": {}
        },
        {
          "output_type": "stream",
          "name": "stdout",
          "text": [
            "всего уникальных символов: 832\n"
          ]
        }
      ]
    },
    {
      "cell_type": "code",
      "source": [
        "#создаем словарь с индексами symbol2id, для спецсимвола паддинга дефолтный индекс - 0\n",
        "symbol2id = {'PAD':0}\n",
        "\n",
        "for symbol in tqdm(vocab):\n",
        "    symbol2id[symbol] = len(symbol2id)"
      ],
      "metadata": {
        "id": "cTHWvWC7mVjJ",
        "colab": {
          "base_uri": "https://localhost:8080/",
          "height": 49,
          "referenced_widgets": [
            "b10e38c1a747431ea8799b2d9b76f654",
            "43689e3e5efd41f7b6926a363cdb5bbc",
            "c318f5ec3ee747db903b0626021c2935",
            "4ea939499dd04ad6a94ab48e511b1900",
            "72f1fcd21ddf4285be02cfac97342225",
            "1b0eb7f2695f4ce39f49e23d1705c766",
            "2a4c88b982db4cf1880d2e2445ef09c0",
            "05d6a7036f2245fb9f43ff3a73a51358",
            "f54e1c5496804916ad331c906fd89e44",
            "4c6d1cacfa4f4fae827e64e60decd9c5",
            "e95b003bcedd4f56925861a14db904d9"
          ]
        },
        "outputId": "eeb262ba-17b2-4e2a-a700-2838b6f1a614"
      },
      "execution_count": null,
      "outputs": [
        {
          "output_type": "display_data",
          "data": {
            "text/plain": [
              "  0%|          | 0/832 [00:00<?, ?it/s]"
            ],
            "application/vnd.jupyter.widget-view+json": {
              "version_major": 2,
              "version_minor": 0,
              "model_id": "b10e38c1a747431ea8799b2d9b76f654"
            }
          },
          "metadata": {}
        }
      ]
    },
    {
      "cell_type": "code",
      "source": [
        "#обратный словарь для того, чтобы раскодировать последовательность\n",
        "id2symbol = {i:symbol for symbol, i in symbol2id.items()}"
      ],
      "metadata": {
        "id": "I-pKjOBXmZqz"
      },
      "execution_count": null,
      "outputs": []
    },
    {
      "cell_type": "code",
      "source": [
        "label_encoder = LabelEncoder()\n",
        "train_data['label'] = label_encoder.fit_transform(train_data['Class'])\n",
        "#train_data['label'] = np.where((train_data.label > 1), 1, train_data.label)"
      ],
      "metadata": {
        "id": "-RK97AhILEzl"
      },
      "execution_count": null,
      "outputs": []
    },
    {
      "cell_type": "code",
      "source": [
        "val_data['label'] = label_encoder.transform(val_data['Class'])\n",
        "#val_data['label'] = np.where((val_data.label > 1), 1, val_data.label)"
      ],
      "metadata": {
        "id": "le0yaQaQayxy"
      },
      "execution_count": null,
      "outputs": []
    },
    {
      "cell_type": "code",
      "source": [
        "DEVICE = torch.device('cuda') if torch.cuda.is_available() else torch.device('cpu')\n",
        "DEVICE"
      ],
      "metadata": {
        "id": "shPeQ3xlmbaa",
        "colab": {
          "base_uri": "https://localhost:8080/"
        },
        "outputId": "b919248c-2708-418d-fd68-c406d4827d2a"
      },
      "execution_count": null,
      "outputs": [
        {
          "output_type": "execute_result",
          "data": {
            "text/plain": [
              "device(type='cuda')"
            ]
          },
          "metadata": {},
          "execution_count": 11
        }
      ]
    },
    {
      "cell_type": "markdown",
      "source": [
        "## Dataset & DataLoader"
      ],
      "metadata": {
        "id": "TYvmzzkyvaha"
      }
    },
    {
      "cell_type": "code",
      "source": [
        "class CharacterDataset(Dataset):\n",
        "\n",
        "    def __init__(self, dataset, symbol2id, DEVICE):\n",
        "        self.dataset = dataset['Text'].values\n",
        "        self.symbol2id = symbol2id\n",
        "        self.length = dataset.shape[0]\n",
        "        self.target = dataset['label'].values\n",
        "        self.device = DEVICE\n",
        "\n",
        "    def __len__(self):\n",
        "        return self.length\n",
        "\n",
        "    def __getitem__(self, index):\n",
        "        texts = self.dataset[index] \n",
        "        symbols = list(self.dataset[index])\n",
        "        ids = torch.LongTensor([self.symbol2id[symbol] for symbol in symbols if symbol in self.symbol2id])\n",
        "        y = self.target[index]\n",
        "        return ids, y, texts\n",
        "\n",
        "    def collate_fn(self, batch): #этот метод можно реализовывать и отдельно,\n",
        "    # он понадобится для DataLoader во время итерации по батчам\n",
        "      ids, y, texts = list(zip(*batch))\n",
        "      padded_ids = pad_sequence(ids, batch_first=True).to(self.device)\n",
        "      y = torch.LongTensor(y).to(self.device)\n",
        "      return padded_ids, y, texts"
      ],
      "metadata": {
        "id": "xle8GtHwmfiU"
      },
      "execution_count": null,
      "outputs": []
    },
    {
      "cell_type": "code",
      "source": [
        "train_dataset = CharacterDataset(train_data, symbol2id, DEVICE)\n",
        "train_sampler = RandomSampler(train_dataset)\n",
        "train_iterator = DataLoader(train_dataset, collate_fn = train_dataset.collate_fn, sampler=train_sampler, batch_size=64)"
      ],
      "metadata": {
        "id": "ev6UOc78mjMv"
      },
      "execution_count": null,
      "outputs": []
    },
    {
      "cell_type": "code",
      "source": [
        "val_dataset = CharacterDataset(val_data, symbol2id, DEVICE)\n",
        "val_sampler = SequentialSampler(val_dataset)\n",
        "val_iterator = DataLoader(val_dataset, collate_fn = val_dataset.collate_fn, sampler=val_sampler, batch_size=64)"
      ],
      "metadata": {
        "id": "i8pYz7JKu8uj"
      },
      "execution_count": null,
      "outputs": []
    },
    {
      "cell_type": "markdown",
      "source": [
        "## CNN model"
      ],
      "metadata": {
        "id": "XQNRoyATvrjp"
      }
    },
    {
      "cell_type": "code",
      "source": [
        "class CNN(nn.Module):\n",
        "    \n",
        "    def __init__(self, vocab_size, embedding_dim):\n",
        "        super().__init__()\n",
        "        self.embedding = nn.Embedding(vocab_size, embedding_dim)\n",
        "        self.bigrams = nn.Conv1d(in_channels=embedding_dim, out_channels=100, kernel_size=2, padding='same')\n",
        "        self.trigrams = nn.Conv1d(in_channels=embedding_dim, out_channels=80, kernel_size=3, padding='same')\n",
        "        self.pooling = nn.MaxPool1d(kernel_size=2, stride=2)\n",
        "        self.relu = nn.ReLU()\n",
        "        self.hidden = nn.Linear(in_features=180, out_features=13)\n",
        "        self.dropout = nn.Dropout(p=0.5)\n",
        "\n",
        "    def forward(self, word):\n",
        "        #batch_size x seq_len\n",
        "        embedded = self.embedding(word)\n",
        "        #batch_size x seq_len x embedding_dim\n",
        "        embedded = embedded.transpose(1,2)\n",
        "        #batch_size x embedding_dim x seq_len\n",
        "        feature_map_bigrams = self.dropout(self.pooling(self.relu(self.bigrams(embedded))))\n",
        "        #batch_size x filter_count2 x seq_len* \n",
        "        feature_map_trigrams = self.dropout(self.pooling(self.relu(self.trigrams(embedded))))\n",
        "        #batch_size x filter_count3 x seq_len*\n",
        "\n",
        "        pooling1 = feature_map_bigrams.max(2)[0] \n",
        "        # batch_size x filter_count2\n",
        "        pooling2 = feature_map_trigrams.max(2)[0]\n",
        "        # batch_size x filter_count3\n",
        "        concat = torch.cat((pooling1, pooling2), 1)\n",
        "        # batch _size x (filter_count2 + filter_count3)\n",
        "        logits = self.hidden(concat) \n",
        "        #logits = self.out(logits)      \n",
        "        return logits"
      ],
      "metadata": {
        "id": "-3qwb-02v1Bc"
      },
      "execution_count": null,
      "outputs": []
    },
    {
      "cell_type": "code",
      "source": [
        "loss = nn.CrossEntropyLoss()"
      ],
      "metadata": {
        "id": "hFRCldilv8Mj"
      },
      "execution_count": null,
      "outputs": []
    },
    {
      "cell_type": "markdown",
      "source": [
        "## training loop, логика обучения и валидации"
      ],
      "metadata": {
        "id": "tFRnrF5tyXiC"
      }
    },
    {
      "cell_type": "code",
      "source": [
        "def train(model, iterator, optimizer, criterion, df):\n",
        "    epoch_loss = 0 # для подсчета среднего лосса на всех батчах\n",
        "    model.train()  # ставим модель в обучение, явно указываем, что сейчас надо будет хранить градиенты у всех весов\n",
        "    predictions = []\n",
        "    acc = 0\n",
        "    \n",
        "    for i, (symbols, ys, texts) in enumerate(iterator): #итерируемся по батчам\n",
        "        optimizer.zero_grad()  #обнуляем градиенты\n",
        "        preds = model(symbols)\n",
        "        loss = criterion(preds, ys) #считаем значение функции потерь\n",
        "        loss.backward() #считаем градиенты  \n",
        "        preds = preds.cpu().detach().numpy()  #прогоняем данные через модель\n",
        "        predictions.extend(np.round(preds))\n",
        "        optimizer.step() #обновляем веса \n",
        "        epoch_loss += loss.item() #сохраняем значение функции потерь\n",
        "        if not (i + 1) % int(len(iterator)/5):\n",
        "            print(f'Train loss: {epoch_loss/i}')\n",
        "        acc += accuracy_score(ys.cpu().detach().numpy(), preds.argmax(axis=1))\n",
        "    print(f'Train accuracy: {acc/len(iterator)}')      "
      ],
      "metadata": {
        "id": "6UutefwTydVn"
      },
      "execution_count": null,
      "outputs": []
    },
    {
      "cell_type": "code",
      "source": [
        "def evaluate(model, iterator, criterion, df):\n",
        "    epoch_loss = 0\n",
        "    accuracy = []\n",
        "    predictions = []\n",
        "    model.eval() \n",
        "    text = []\n",
        "    labels = []\n",
        "    with torch.no_grad():\n",
        "        for i, (symbols, ys, texts) in enumerate(iterator):   \n",
        "            preds = model(symbols)  # делаем предсказания на тесте\n",
        "            loss = criterion(preds, ys)   # считаем значения функции ошибки для статистики  \n",
        "            epoch_loss += loss.item()\n",
        "            preds = preds.cpu().detach().numpy()\n",
        "            predictions.extend(preds.argmax(axis=1))\n",
        "            labels.extend(ys.cpu().detach().numpy())\n",
        "            text.extend(list(texts))\n",
        "            accuracy.append(accuracy_score(ys.cpu().detach().numpy(), preds.argmax(axis=1)))\n",
        "        print(f'Val accuracy: {sum(accuracy)/ len(iterator)}') # возвращаем среднее значение по всей выборке\n",
        "    return predictions, labels, text"
      ],
      "metadata": {
        "id": "ZLdKbu2eyfvd"
      },
      "execution_count": null,
      "outputs": []
    },
    {
      "cell_type": "markdown",
      "source": [
        "## инициализируем модель, задаем оптимизатор и функцию потерь"
      ],
      "metadata": {
        "id": "K0WW3uUlyhxj"
      }
    },
    {
      "cell_type": "code",
      "source": [
        "model = CNN(len(symbol2id), 100)\n",
        "optimizer = optim.Adam(model.parameters(), lr=0.001)\n",
        "criterion = nn.CrossEntropyLoss() \n",
        "\n",
        "# веса модели и значения лосса храним там же, где и все остальные тензоры\n",
        "model = model.to(DEVICE)\n",
        "criterion = criterion.to(DEVICE)"
      ],
      "metadata": {
        "id": "5JW8zyqlyjI8"
      },
      "execution_count": null,
      "outputs": []
    },
    {
      "cell_type": "markdown",
      "source": [
        "## запуск обучения"
      ],
      "metadata": {
        "id": "0hvm9aecynFd"
      }
    },
    {
      "cell_type": "code",
      "source": [
        "losses = []\n",
        "losses_eval = []\n",
        "f1s = []\n",
        "f1s_eval = []\n",
        "\n",
        "for i in tqdm(range(10)):\n",
        "    print(f'\\nstarting Epoch {i}')\n",
        "    print('Training...')\n",
        "    train(model, train_iterator, optimizer, criterion, train_data)\n",
        "    print('\\nEvaluating on test...')\n",
        "    evaluate(model, val_iterator, criterion, val_data)"
      ],
      "metadata": {
        "id": "PmwAKTg0ymJA",
        "colab": {
          "base_uri": "https://localhost:8080/",
          "height": 1000,
          "referenced_widgets": [
            "a94744699aba4294b3ca1d9bed9ab617",
            "507e695b97b3466d943d750e91dba4ac",
            "53aabf0e5a124507ae249538eb8f063e",
            "04c90c8d93654fc3abb72419e1701af8",
            "79cf5c43b50341fe90daec2b499ab779",
            "e462144b66e54c00be75425c67c8c22f",
            "4ce8009fe25a406aac225adfb349225c",
            "dea519e2a5ea4b04bdf978ca20dc4e93",
            "e881a14969d24dcb81f7cfdc7d681a35",
            "3578dd9ecab14d5e9f2cc6b6044cb96d",
            "1b207e0db8ae441b9ebb1e7e891e49d0"
          ]
        },
        "outputId": "e78093fe-e66f-4707-bef0-ddeaada557f5"
      },
      "execution_count": null,
      "outputs": [
        {
          "output_type": "display_data",
          "data": {
            "text/plain": [
              "  0%|          | 0/10 [00:00<?, ?it/s]"
            ],
            "application/vnd.jupyter.widget-view+json": {
              "version_major": 2,
              "version_minor": 0,
              "model_id": "a94744699aba4294b3ca1d9bed9ab617"
            }
          },
          "metadata": {}
        },
        {
          "output_type": "stream",
          "name": "stdout",
          "text": [
            "\n",
            "starting Epoch 0\n",
            "Training...\n"
          ]
        },
        {
          "output_type": "stream",
          "name": "stderr",
          "text": [
            "/usr/local/lib/python3.7/dist-packages/torch/nn/modules/conv.py:298: UserWarning: Using padding='same' with even kernel lengths and odd dilation may require a zero-padded copy of the input be created (Triggered internally at  ../aten/src/ATen/native/Convolution.cpp:647.)\n",
            "  self.padding, self.dilation, self.groups)\n"
          ]
        },
        {
          "output_type": "stream",
          "name": "stdout",
          "text": [
            "Train loss: 2.1756445400971027\n",
            "Train loss: 2.0925699646939937\n",
            "Train loss: 2.0435246859605494\n",
            "Train loss: 2.0073273235933913\n",
            "Train loss: 1.9777724317703058\n",
            "Train accuracy: 0.26354130014074595\n",
            "\n",
            "Evaluating on test...\n",
            "Val accuracy: 0.31501654212240127\n",
            "\n",
            "starting Epoch 1\n",
            "Training...\n",
            "Train loss: 1.85339451328782\n",
            "Train loss: 1.8353490195323512\n",
            "Train loss: 1.8218555707525421\n",
            "Train loss: 1.8119500680269345\n",
            "Train loss: 1.8024028938331165\n",
            "Train accuracy: 0.3158353858784893\n",
            "\n",
            "Evaluating on test...\n",
            "Val accuracy: 0.31889115596560075\n",
            "\n",
            "starting Epoch 2\n",
            "Training...\n",
            "Train loss: 1.7420542456886985\n",
            "Train loss: 1.7325440082353416\n",
            "Train loss: 1.733520010506714\n",
            "Train loss: 1.7303206747518631\n",
            "Train loss: 1.7269502549234292\n",
            "Train accuracy: 0.3402038617171006\n",
            "\n",
            "Evaluating on test...\n",
            "Val accuracy: 0.32903168573098435\n",
            "\n",
            "starting Epoch 3\n",
            "Training...\n",
            "Train loss: 1.6897495699322913\n",
            "Train loss: 1.6910293987116862\n",
            "Train loss: 1.690046903851268\n",
            "Train loss: 1.6859389299221805\n",
            "Train loss: 1.6837181587392063\n",
            "Train accuracy: 0.35182639866291343\n",
            "\n",
            "Evaluating on test...\n",
            "Val accuracy: 0.3522898054604659\n",
            "\n",
            "starting Epoch 4\n",
            "Training...\n",
            "Train loss: 1.6645698089244938\n",
            "Train loss: 1.661409144794818\n",
            "Train loss: 1.6593040706037165\n",
            "Train loss: 1.6572032584957432\n",
            "Train loss: 1.6530868412046102\n",
            "Train accuracy: 0.3624666461412151\n",
            "\n",
            "Evaluating on test...\n",
            "Val accuracy: 0.3472162791183101\n",
            "\n",
            "starting Epoch 5\n",
            "Training...\n",
            "Train loss: 1.6489235812967473\n",
            "Train loss: 1.6434350190703402\n",
            "Train loss: 1.6378844344353938\n",
            "Train loss: 1.6366023676034473\n",
            "Train loss: 1.6346881383726193\n",
            "Train accuracy: 0.3655069786535304\n",
            "\n",
            "Evaluating on test...\n",
            "Val accuracy: 0.35228328254153796\n",
            "\n",
            "starting Epoch 6\n",
            "Training...\n",
            "Train loss: 1.6188261903021945\n",
            "Train loss: 1.6134784828756275\n",
            "Train loss: 1.6137711168318005\n",
            "Train loss: 1.6154082725025967\n",
            "Train loss: 1.616970020228202\n",
            "Train accuracy: 0.3754838142153413\n",
            "\n",
            "Evaluating on test...\n",
            "Val accuracy: 0.3654582741922017\n",
            "\n",
            "starting Epoch 7\n",
            "Training...\n",
            "Train loss: 1.5926973006942056\n",
            "Train loss: 1.5945762268046744\n",
            "Train loss: 1.5996133799736316\n",
            "Train loss: 1.6025582866246373\n",
            "Train loss: 1.6042303953571413\n",
            "Train accuracy: 0.3791875586441473\n",
            "\n",
            "Evaluating on test...\n",
            "Val accuracy: 0.37306530224597145\n",
            "\n",
            "starting Epoch 8\n",
            "Training...\n",
            "Train loss: 1.597809633932823\n",
            "Train loss: 1.5992689324408462\n",
            "Train loss: 1.5961420914301505\n",
            "Train loss: 1.5968841004936383\n",
            "Train loss: 1.5980215166899479\n",
            "Train accuracy: 0.38105317558057705\n",
            "\n",
            "Evaluating on test...\n",
            "Val accuracy: 0.3858619645988144\n",
            "\n",
            "starting Epoch 9\n",
            "Training...\n",
            "Train loss: 1.572052073872779\n",
            "Train loss: 1.5770194004491433\n",
            "Train loss: 1.5838026194782047\n",
            "Train loss: 1.582613521697715\n",
            "Train loss: 1.583214817761982\n",
            "Train accuracy: 0.3868571135350692\n",
            "\n",
            "Evaluating on test...\n",
            "Val accuracy: 0.3743033522584954\n"
          ]
        }
      ]
    },
    {
      "cell_type": "code",
      "source": [
        "predictions, labels, texts = evaluate(model, val_iterator, criterion, val_data)\n",
        "df = pd.DataFrame({'texts':texts, 'predictions':label_encoder.inverse_transform(predictions),\n",
        "                   'labels':label_encoder.inverse_transform(labels)})"
      ],
      "metadata": {
        "colab": {
          "base_uri": "https://localhost:8080/"
        },
        "id": "zaSeRNhO_rpk",
        "outputId": "a988085c-7347-4b7a-ae38-e149b09768b1"
      },
      "execution_count": null,
      "outputs": [
        {
          "output_type": "stream",
          "name": "stdout",
          "text": [
            "Val accuracy: 0.3743033522584954\n"
          ]
        }
      ]
    },
    {
      "cell_type": "code",
      "source": [
        "df.to_csv('CNN_character.csv')"
      ],
      "metadata": {
        "id": "7dOnUquvAR9E"
      },
      "execution_count": null,
      "outputs": []
    },
    {
      "cell_type": "markdown",
      "source": [
        "## работа с моделью"
      ],
      "metadata": {
        "id": "nb0OsY14bRol"
      }
    },
    {
      "cell_type": "code",
      "source": [
        "torch.save(model.state_dict(), 'model.pth') "
      ],
      "metadata": {
        "id": "fz_fpHB73wQh"
      },
      "execution_count": null,
      "outputs": []
    }
  ]
}
