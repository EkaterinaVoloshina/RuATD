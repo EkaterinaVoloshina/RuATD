{
  "nbformat": 4,
  "nbformat_minor": 0,
  "metadata": {
    "colab": {
      "name": "word2vec for ruatd.ipynb",
      "provenance": []
    },
    "kernelspec": {
      "name": "python3",
      "display_name": "Python 3"
    },
    "language_info": {
      "name": "python"
    },
    "accelerator": "GPU",
    "widgets": {
      "application/vnd.jupyter.widget-state+json": {
        "5f66a163ac18437c8fa83ff717476363": {
          "model_module": "@jupyter-widgets/controls",
          "model_name": "HBoxModel",
          "model_module_version": "1.5.0",
          "state": {
            "_dom_classes": [],
            "_model_module": "@jupyter-widgets/controls",
            "_model_module_version": "1.5.0",
            "_model_name": "HBoxModel",
            "_view_count": null,
            "_view_module": "@jupyter-widgets/controls",
            "_view_module_version": "1.5.0",
            "_view_name": "HBoxView",
            "box_style": "",
            "children": [
              "IPY_MODEL_33a195e0e15a43e290edcd1bd13d2e7d",
              "IPY_MODEL_29a240b87f634cab86e416fb96d8de76",
              "IPY_MODEL_3ac4f4271276451aaebfdad6f453b27f"
            ],
            "layout": "IPY_MODEL_0d4175460e4e4d3ab2d387425601d9b7"
          }
        },
        "33a195e0e15a43e290edcd1bd13d2e7d": {
          "model_module": "@jupyter-widgets/controls",
          "model_name": "HTMLModel",
          "model_module_version": "1.5.0",
          "state": {
            "_dom_classes": [],
            "_model_module": "@jupyter-widgets/controls",
            "_model_module_version": "1.5.0",
            "_model_name": "HTMLModel",
            "_view_count": null,
            "_view_module": "@jupyter-widgets/controls",
            "_view_module_version": "1.5.0",
            "_view_name": "HTMLView",
            "description": "",
            "description_tooltip": null,
            "layout": "IPY_MODEL_195d2849c7294965b417bd4bbcfdd1a8",
            "placeholder": "​",
            "style": "IPY_MODEL_754efabb16e344f8a43b7d9437732a6a",
            "value": "Read word2vec: 100%"
          }
        },
        "29a240b87f634cab86e416fb96d8de76": {
          "model_module": "@jupyter-widgets/controls",
          "model_name": "FloatProgressModel",
          "model_module_version": "1.5.0",
          "state": {
            "_dom_classes": [],
            "_model_module": "@jupyter-widgets/controls",
            "_model_module_version": "1.5.0",
            "_model_name": "FloatProgressModel",
            "_view_count": null,
            "_view_module": "@jupyter-widgets/controls",
            "_view_module_version": "1.5.0",
            "_view_name": "ProgressView",
            "bar_style": "success",
            "description": "",
            "description_tooltip": null,
            "layout": "IPY_MODEL_871ae1506ccc44f98122d2a1bd52c99d",
            "max": 2000000,
            "min": 0,
            "orientation": "horizontal",
            "style": "IPY_MODEL_4dacb63054df4054b5737b82f1615571",
            "value": 2000000
          }
        },
        "3ac4f4271276451aaebfdad6f453b27f": {
          "model_module": "@jupyter-widgets/controls",
          "model_name": "HTMLModel",
          "model_module_version": "1.5.0",
          "state": {
            "_dom_classes": [],
            "_model_module": "@jupyter-widgets/controls",
            "_model_module_version": "1.5.0",
            "_model_name": "HTMLModel",
            "_view_count": null,
            "_view_module": "@jupyter-widgets/controls",
            "_view_module_version": "1.5.0",
            "_view_name": "HTMLView",
            "description": "",
            "description_tooltip": null,
            "layout": "IPY_MODEL_631226a30c3e4feaa98bcb3c6bd2f8fa",
            "placeholder": "​",
            "style": "IPY_MODEL_c04bd2184d7149d7ace1b6d251dacfdb",
            "value": " 2000000/2000000 [01:35&lt;00:00, 22116.23it/s]"
          }
        },
        "0d4175460e4e4d3ab2d387425601d9b7": {
          "model_module": "@jupyter-widgets/base",
          "model_name": "LayoutModel",
          "model_module_version": "1.2.0",
          "state": {
            "_model_module": "@jupyter-widgets/base",
            "_model_module_version": "1.2.0",
            "_model_name": "LayoutModel",
            "_view_count": null,
            "_view_module": "@jupyter-widgets/base",
            "_view_module_version": "1.2.0",
            "_view_name": "LayoutView",
            "align_content": null,
            "align_items": null,
            "align_self": null,
            "border": null,
            "bottom": null,
            "display": null,
            "flex": null,
            "flex_flow": null,
            "grid_area": null,
            "grid_auto_columns": null,
            "grid_auto_flow": null,
            "grid_auto_rows": null,
            "grid_column": null,
            "grid_gap": null,
            "grid_row": null,
            "grid_template_areas": null,
            "grid_template_columns": null,
            "grid_template_rows": null,
            "height": null,
            "justify_content": null,
            "justify_items": null,
            "left": null,
            "margin": null,
            "max_height": null,
            "max_width": null,
            "min_height": null,
            "min_width": null,
            "object_fit": null,
            "object_position": null,
            "order": null,
            "overflow": null,
            "overflow_x": null,
            "overflow_y": null,
            "padding": null,
            "right": null,
            "top": null,
            "visibility": null,
            "width": null
          }
        },
        "195d2849c7294965b417bd4bbcfdd1a8": {
          "model_module": "@jupyter-widgets/base",
          "model_name": "LayoutModel",
          "model_module_version": "1.2.0",
          "state": {
            "_model_module": "@jupyter-widgets/base",
            "_model_module_version": "1.2.0",
            "_model_name": "LayoutModel",
            "_view_count": null,
            "_view_module": "@jupyter-widgets/base",
            "_view_module_version": "1.2.0",
            "_view_name": "LayoutView",
            "align_content": null,
            "align_items": null,
            "align_self": null,
            "border": null,
            "bottom": null,
            "display": null,
            "flex": null,
            "flex_flow": null,
            "grid_area": null,
            "grid_auto_columns": null,
            "grid_auto_flow": null,
            "grid_auto_rows": null,
            "grid_column": null,
            "grid_gap": null,
            "grid_row": null,
            "grid_template_areas": null,
            "grid_template_columns": null,
            "grid_template_rows": null,
            "height": null,
            "justify_content": null,
            "justify_items": null,
            "left": null,
            "margin": null,
            "max_height": null,
            "max_width": null,
            "min_height": null,
            "min_width": null,
            "object_fit": null,
            "object_position": null,
            "order": null,
            "overflow": null,
            "overflow_x": null,
            "overflow_y": null,
            "padding": null,
            "right": null,
            "top": null,
            "visibility": null,
            "width": null
          }
        },
        "754efabb16e344f8a43b7d9437732a6a": {
          "model_module": "@jupyter-widgets/controls",
          "model_name": "DescriptionStyleModel",
          "model_module_version": "1.5.0",
          "state": {
            "_model_module": "@jupyter-widgets/controls",
            "_model_module_version": "1.5.0",
            "_model_name": "DescriptionStyleModel",
            "_view_count": null,
            "_view_module": "@jupyter-widgets/base",
            "_view_module_version": "1.2.0",
            "_view_name": "StyleView",
            "description_width": ""
          }
        },
        "871ae1506ccc44f98122d2a1bd52c99d": {
          "model_module": "@jupyter-widgets/base",
          "model_name": "LayoutModel",
          "model_module_version": "1.2.0",
          "state": {
            "_model_module": "@jupyter-widgets/base",
            "_model_module_version": "1.2.0",
            "_model_name": "LayoutModel",
            "_view_count": null,
            "_view_module": "@jupyter-widgets/base",
            "_view_module_version": "1.2.0",
            "_view_name": "LayoutView",
            "align_content": null,
            "align_items": null,
            "align_self": null,
            "border": null,
            "bottom": null,
            "display": null,
            "flex": null,
            "flex_flow": null,
            "grid_area": null,
            "grid_auto_columns": null,
            "grid_auto_flow": null,
            "grid_auto_rows": null,
            "grid_column": null,
            "grid_gap": null,
            "grid_row": null,
            "grid_template_areas": null,
            "grid_template_columns": null,
            "grid_template_rows": null,
            "height": null,
            "justify_content": null,
            "justify_items": null,
            "left": null,
            "margin": null,
            "max_height": null,
            "max_width": null,
            "min_height": null,
            "min_width": null,
            "object_fit": null,
            "object_position": null,
            "order": null,
            "overflow": null,
            "overflow_x": null,
            "overflow_y": null,
            "padding": null,
            "right": null,
            "top": null,
            "visibility": null,
            "width": null
          }
        },
        "4dacb63054df4054b5737b82f1615571": {
          "model_module": "@jupyter-widgets/controls",
          "model_name": "ProgressStyleModel",
          "model_module_version": "1.5.0",
          "state": {
            "_model_module": "@jupyter-widgets/controls",
            "_model_module_version": "1.5.0",
            "_model_name": "ProgressStyleModel",
            "_view_count": null,
            "_view_module": "@jupyter-widgets/base",
            "_view_module_version": "1.2.0",
            "_view_name": "StyleView",
            "bar_color": null,
            "description_width": ""
          }
        },
        "631226a30c3e4feaa98bcb3c6bd2f8fa": {
          "model_module": "@jupyter-widgets/base",
          "model_name": "LayoutModel",
          "model_module_version": "1.2.0",
          "state": {
            "_model_module": "@jupyter-widgets/base",
            "_model_module_version": "1.2.0",
            "_model_name": "LayoutModel",
            "_view_count": null,
            "_view_module": "@jupyter-widgets/base",
            "_view_module_version": "1.2.0",
            "_view_name": "LayoutView",
            "align_content": null,
            "align_items": null,
            "align_self": null,
            "border": null,
            "bottom": null,
            "display": null,
            "flex": null,
            "flex_flow": null,
            "grid_area": null,
            "grid_auto_columns": null,
            "grid_auto_flow": null,
            "grid_auto_rows": null,
            "grid_column": null,
            "grid_gap": null,
            "grid_row": null,
            "grid_template_areas": null,
            "grid_template_columns": null,
            "grid_template_rows": null,
            "height": null,
            "justify_content": null,
            "justify_items": null,
            "left": null,
            "margin": null,
            "max_height": null,
            "max_width": null,
            "min_height": null,
            "min_width": null,
            "object_fit": null,
            "object_position": null,
            "order": null,
            "overflow": null,
            "overflow_x": null,
            "overflow_y": null,
            "padding": null,
            "right": null,
            "top": null,
            "visibility": null,
            "width": null
          }
        },
        "c04bd2184d7149d7ace1b6d251dacfdb": {
          "model_module": "@jupyter-widgets/controls",
          "model_name": "DescriptionStyleModel",
          "model_module_version": "1.5.0",
          "state": {
            "_model_module": "@jupyter-widgets/controls",
            "_model_module_version": "1.5.0",
            "_model_name": "DescriptionStyleModel",
            "_view_count": null,
            "_view_module": "@jupyter-widgets/base",
            "_view_module_version": "1.2.0",
            "_view_name": "StyleView",
            "description_width": ""
          }
        },
        "bf84b72fc1ec4c0e952bf0f3b361b219": {
          "model_module": "@jupyter-widgets/controls",
          "model_name": "HBoxModel",
          "model_module_version": "1.5.0",
          "state": {
            "_dom_classes": [],
            "_model_module": "@jupyter-widgets/controls",
            "_model_module_version": "1.5.0",
            "_model_name": "HBoxModel",
            "_view_count": null,
            "_view_module": "@jupyter-widgets/controls",
            "_view_module_version": "1.5.0",
            "_view_name": "HBoxView",
            "box_style": "",
            "children": [
              "IPY_MODEL_7930a02bd5f64ac8a6f5699f1105e35a",
              "IPY_MODEL_c8a9f41c7d494cd982c3ebd7f2628637",
              "IPY_MODEL_452b6ea4b59042ed913f597a43ccb49b"
            ],
            "layout": "IPY_MODEL_03a5a5302f774b0b9617fa36fef50685"
          }
        },
        "7930a02bd5f64ac8a6f5699f1105e35a": {
          "model_module": "@jupyter-widgets/controls",
          "model_name": "HTMLModel",
          "model_module_version": "1.5.0",
          "state": {
            "_dom_classes": [],
            "_model_module": "@jupyter-widgets/controls",
            "_model_module_version": "1.5.0",
            "_model_name": "HTMLModel",
            "_view_count": null,
            "_view_module": "@jupyter-widgets/controls",
            "_view_module_version": "1.5.0",
            "_view_name": "HTMLView",
            "description": "",
            "description_tooltip": null,
            "layout": "IPY_MODEL_f6d8a2e9b19b489fa4ef027a22af37a9",
            "placeholder": "​",
            "style": "IPY_MODEL_ce7e2fd543b0466e963cd0a83cc7cf3d",
            "value": "100%"
          }
        },
        "c8a9f41c7d494cd982c3ebd7f2628637": {
          "model_module": "@jupyter-widgets/controls",
          "model_name": "FloatProgressModel",
          "model_module_version": "1.5.0",
          "state": {
            "_dom_classes": [],
            "_model_module": "@jupyter-widgets/controls",
            "_model_module_version": "1.5.0",
            "_model_name": "FloatProgressModel",
            "_view_count": null,
            "_view_module": "@jupyter-widgets/controls",
            "_view_module_version": "1.5.0",
            "_view_name": "ProgressView",
            "bar_style": "success",
            "description": "",
            "description_tooltip": null,
            "layout": "IPY_MODEL_c7344140d70a4711a0c0a1879482083b",
            "max": 10,
            "min": 0,
            "orientation": "horizontal",
            "style": "IPY_MODEL_46b42bd5ce5b4e288922c94acffeaffa",
            "value": 10
          }
        },
        "452b6ea4b59042ed913f597a43ccb49b": {
          "model_module": "@jupyter-widgets/controls",
          "model_name": "HTMLModel",
          "model_module_version": "1.5.0",
          "state": {
            "_dom_classes": [],
            "_model_module": "@jupyter-widgets/controls",
            "_model_module_version": "1.5.0",
            "_model_name": "HTMLModel",
            "_view_count": null,
            "_view_module": "@jupyter-widgets/controls",
            "_view_module_version": "1.5.0",
            "_view_name": "HTMLView",
            "description": "",
            "description_tooltip": null,
            "layout": "IPY_MODEL_64c07652257d462a95ffdafe1d459985",
            "placeholder": "​",
            "style": "IPY_MODEL_be076378f5404388b20ff523bbf8bd11",
            "value": " 10/10 [08:30&lt;00:00, 51.01s/it]"
          }
        },
        "03a5a5302f774b0b9617fa36fef50685": {
          "model_module": "@jupyter-widgets/base",
          "model_name": "LayoutModel",
          "model_module_version": "1.2.0",
          "state": {
            "_model_module": "@jupyter-widgets/base",
            "_model_module_version": "1.2.0",
            "_model_name": "LayoutModel",
            "_view_count": null,
            "_view_module": "@jupyter-widgets/base",
            "_view_module_version": "1.2.0",
            "_view_name": "LayoutView",
            "align_content": null,
            "align_items": null,
            "align_self": null,
            "border": null,
            "bottom": null,
            "display": null,
            "flex": null,
            "flex_flow": null,
            "grid_area": null,
            "grid_auto_columns": null,
            "grid_auto_flow": null,
            "grid_auto_rows": null,
            "grid_column": null,
            "grid_gap": null,
            "grid_row": null,
            "grid_template_areas": null,
            "grid_template_columns": null,
            "grid_template_rows": null,
            "height": null,
            "justify_content": null,
            "justify_items": null,
            "left": null,
            "margin": null,
            "max_height": null,
            "max_width": null,
            "min_height": null,
            "min_width": null,
            "object_fit": null,
            "object_position": null,
            "order": null,
            "overflow": null,
            "overflow_x": null,
            "overflow_y": null,
            "padding": null,
            "right": null,
            "top": null,
            "visibility": null,
            "width": null
          }
        },
        "f6d8a2e9b19b489fa4ef027a22af37a9": {
          "model_module": "@jupyter-widgets/base",
          "model_name": "LayoutModel",
          "model_module_version": "1.2.0",
          "state": {
            "_model_module": "@jupyter-widgets/base",
            "_model_module_version": "1.2.0",
            "_model_name": "LayoutModel",
            "_view_count": null,
            "_view_module": "@jupyter-widgets/base",
            "_view_module_version": "1.2.0",
            "_view_name": "LayoutView",
            "align_content": null,
            "align_items": null,
            "align_self": null,
            "border": null,
            "bottom": null,
            "display": null,
            "flex": null,
            "flex_flow": null,
            "grid_area": null,
            "grid_auto_columns": null,
            "grid_auto_flow": null,
            "grid_auto_rows": null,
            "grid_column": null,
            "grid_gap": null,
            "grid_row": null,
            "grid_template_areas": null,
            "grid_template_columns": null,
            "grid_template_rows": null,
            "height": null,
            "justify_content": null,
            "justify_items": null,
            "left": null,
            "margin": null,
            "max_height": null,
            "max_width": null,
            "min_height": null,
            "min_width": null,
            "object_fit": null,
            "object_position": null,
            "order": null,
            "overflow": null,
            "overflow_x": null,
            "overflow_y": null,
            "padding": null,
            "right": null,
            "top": null,
            "visibility": null,
            "width": null
          }
        },
        "ce7e2fd543b0466e963cd0a83cc7cf3d": {
          "model_module": "@jupyter-widgets/controls",
          "model_name": "DescriptionStyleModel",
          "model_module_version": "1.5.0",
          "state": {
            "_model_module": "@jupyter-widgets/controls",
            "_model_module_version": "1.5.0",
            "_model_name": "DescriptionStyleModel",
            "_view_count": null,
            "_view_module": "@jupyter-widgets/base",
            "_view_module_version": "1.2.0",
            "_view_name": "StyleView",
            "description_width": ""
          }
        },
        "c7344140d70a4711a0c0a1879482083b": {
          "model_module": "@jupyter-widgets/base",
          "model_name": "LayoutModel",
          "model_module_version": "1.2.0",
          "state": {
            "_model_module": "@jupyter-widgets/base",
            "_model_module_version": "1.2.0",
            "_model_name": "LayoutModel",
            "_view_count": null,
            "_view_module": "@jupyter-widgets/base",
            "_view_module_version": "1.2.0",
            "_view_name": "LayoutView",
            "align_content": null,
            "align_items": null,
            "align_self": null,
            "border": null,
            "bottom": null,
            "display": null,
            "flex": null,
            "flex_flow": null,
            "grid_area": null,
            "grid_auto_columns": null,
            "grid_auto_flow": null,
            "grid_auto_rows": null,
            "grid_column": null,
            "grid_gap": null,
            "grid_row": null,
            "grid_template_areas": null,
            "grid_template_columns": null,
            "grid_template_rows": null,
            "height": null,
            "justify_content": null,
            "justify_items": null,
            "left": null,
            "margin": null,
            "max_height": null,
            "max_width": null,
            "min_height": null,
            "min_width": null,
            "object_fit": null,
            "object_position": null,
            "order": null,
            "overflow": null,
            "overflow_x": null,
            "overflow_y": null,
            "padding": null,
            "right": null,
            "top": null,
            "visibility": null,
            "width": null
          }
        },
        "46b42bd5ce5b4e288922c94acffeaffa": {
          "model_module": "@jupyter-widgets/controls",
          "model_name": "ProgressStyleModel",
          "model_module_version": "1.5.0",
          "state": {
            "_model_module": "@jupyter-widgets/controls",
            "_model_module_version": "1.5.0",
            "_model_name": "ProgressStyleModel",
            "_view_count": null,
            "_view_module": "@jupyter-widgets/base",
            "_view_module_version": "1.2.0",
            "_view_name": "StyleView",
            "bar_color": null,
            "description_width": ""
          }
        },
        "64c07652257d462a95ffdafe1d459985": {
          "model_module": "@jupyter-widgets/base",
          "model_name": "LayoutModel",
          "model_module_version": "1.2.0",
          "state": {
            "_model_module": "@jupyter-widgets/base",
            "_model_module_version": "1.2.0",
            "_model_name": "LayoutModel",
            "_view_count": null,
            "_view_module": "@jupyter-widgets/base",
            "_view_module_version": "1.2.0",
            "_view_name": "LayoutView",
            "align_content": null,
            "align_items": null,
            "align_self": null,
            "border": null,
            "bottom": null,
            "display": null,
            "flex": null,
            "flex_flow": null,
            "grid_area": null,
            "grid_auto_columns": null,
            "grid_auto_flow": null,
            "grid_auto_rows": null,
            "grid_column": null,
            "grid_gap": null,
            "grid_row": null,
            "grid_template_areas": null,
            "grid_template_columns": null,
            "grid_template_rows": null,
            "height": null,
            "justify_content": null,
            "justify_items": null,
            "left": null,
            "margin": null,
            "max_height": null,
            "max_width": null,
            "min_height": null,
            "min_width": null,
            "object_fit": null,
            "object_position": null,
            "order": null,
            "overflow": null,
            "overflow_x": null,
            "overflow_y": null,
            "padding": null,
            "right": null,
            "top": null,
            "visibility": null,
            "width": null
          }
        },
        "be076378f5404388b20ff523bbf8bd11": {
          "model_module": "@jupyter-widgets/controls",
          "model_name": "DescriptionStyleModel",
          "model_module_version": "1.5.0",
          "state": {
            "_model_module": "@jupyter-widgets/controls",
            "_model_module_version": "1.5.0",
            "_model_name": "DescriptionStyleModel",
            "_view_count": null,
            "_view_module": "@jupyter-widgets/base",
            "_view_module_version": "1.2.0",
            "_view_name": "StyleView",
            "description_width": ""
          }
        }
      }
    }
  },
  "cells": [
    {
      "cell_type": "code",
      "execution_count": null,
      "metadata": {
        "colab": {
          "base_uri": "https://localhost:8080/"
        },
        "id": "9Jx1rKoAxqDB",
        "outputId": "9948866f-43f2-4410-800f-8fb3513fd0e5"
      },
      "outputs": [
        {
          "output_type": "stream",
          "name": "stdout",
          "text": [
            "Mounted at /content/gdrive\n"
          ]
        }
      ],
      "source": [
        "import torch\n",
        "import torch.nn as nn\n",
        "import torch.nn.functional as F\n",
        "from torch.utils.data import Dataset, DataLoader, RandomSampler, SequentialSampler\n",
        "from torch.nn.utils.rnn import pad_sequence\n",
        "import torch.optim as optim\n",
        "import numpy as np\n",
        "from string import punctuation\n",
        "from gensim.models import Word2Vec, KeyedVectors\n",
        "from google.colab import drive\n",
        "from tqdm.notebook import tqdm\n",
        "from collections import Counter\n",
        "import pandas as pd\n",
        "\n",
        "drive.mount('/content/gdrive', force_remount=True)"
      ]
    },
    {
      "cell_type": "code",
      "source": [
        "class W2VDataset(Dataset):\n",
        "\n",
        "    def __init__(self, dataset, word2id, DEVICE, features, text='Text'):\n",
        "        self.dataset = dataset[text].values\n",
        "        self.word2id = word2id\n",
        "        self.features = features\n",
        "        self.length = dataset.shape[0]\n",
        "        self.target = torch.Tensor(dataset['Class'].values)\n",
        "        self.device = DEVICE\n",
        "\n",
        "    def __len__(self): #это обязательный метод, он должен уметь считать длину датасета\n",
        "        return self.length\n",
        "\n",
        "    def __getitem__(self, index): #еще один обязательный метод. По индексу возвращает элемент выборки\n",
        "        tokens = self.preprocess(self.dataset[index]) # токенизируем\n",
        "        ids = torch.LongTensor([self.word2id[token] for token in tokens if token in self.word2id])\n",
        "        y = self.target[index]\n",
        "        fs = self.features[index]\n",
        "        texts = self.dataset[index]\n",
        "        return ids, fs, y, texts\n",
        "    \n",
        "    def preprocess(self, text):\n",
        "        tokens = text.lower().split()\n",
        "        tokens = [token.strip(punctuation) for token in tokens]\n",
        "        tokens = [token for token in tokens if token not in punctuation]\n",
        "        return tokens\n",
        "\n",
        "    def collate_fn(self, batch): #этот метод можно реализовывать и отдельно,\n",
        "    # он понадобится для DataLoader во время итерации по батчам\n",
        "      ids, fs, y, texts = list(zip(*batch))\n",
        "      padded_ids = pad_sequence(ids, batch_first=True)\n",
        "      return padded_ids, torch.Tensor(fs), torch.LongTensor(y), texts"
      ],
      "metadata": {
        "id": "tf6o1otIyd4i"
      },
      "execution_count": null,
      "outputs": []
    },
    {
      "cell_type": "code",
      "source": [
        "#train_dataset = pd.read_csv('/content/gdrive/MyDrive/data/train.csv')\n",
        "#val_dataset = pd.read_csv('/content/gdrive/MyDrive/data/val.csv')"
      ],
      "metadata": {
        "id": "WFhzvoGP2PKD"
      },
      "execution_count": null,
      "outputs": []
    },
    {
      "cell_type": "code",
      "source": [
        "train_dataset = pd.read_csv('/content/gdrive/MyDrive/train.csv')\n",
        "val_dataset = pd.read_csv('/content/gdrive/MyDrive/val.csv')"
      ],
      "metadata": {
        "id": "IXhM1TwBqY3_"
      },
      "execution_count": null,
      "outputs": []
    },
    {
      "cell_type": "code",
      "source": [
        "train_dataset = train_dataset[train_dataset['Class'] != 'Human']\n",
        "val_dataset = val_dataset[val_dataset['Class'] != 'Human']"
      ],
      "metadata": {
        "id": "epqXcMrVM9-o"
      },
      "execution_count": null,
      "outputs": []
    },
    {
      "cell_type": "code",
      "source": [
        "def preprocess(text):\n",
        "    tokens = text.lower().split()\n",
        "    tokens = [token.strip(punctuation) for token in tokens]\n",
        "    return tokens"
      ],
      "metadata": {
        "id": "0iLvGdMd6X7D"
      },
      "execution_count": null,
      "outputs": []
    },
    {
      "cell_type": "code",
      "source": [
        "word_vocab = Counter()\n",
        "for i, text in train_dataset[:100].iterrows():\n",
        "    word_vocab.update(preprocess(text[5]))"
      ],
      "metadata": {
        "id": "viE79rdj6uFp"
      },
      "execution_count": null,
      "outputs": []
    },
    {
      "cell_type": "code",
      "source": [
        "def create2id(vocab, threshold):\n",
        "    filtered_vocab = set()\n",
        "    for word in vocab:\n",
        "        if vocab[word] > threshold:\n",
        "            filtered_vocab.add(word)\n",
        "    print(f'уникальных токенов, втретившихся больше {threshold} раз:', len(filtered_vocab))\n",
        "\n",
        "    word2id = {'PAD':0}\n",
        "    for word in filtered_vocab:\n",
        "        word2id[word] = len(word2id)\n",
        "    id2word = {i:word for word, i in word2id.items()}\n",
        "    return word2id, id2word"
      ],
      "metadata": {
        "id": "HQhVkYk16dE-"
      },
      "execution_count": null,
      "outputs": []
    },
    {
      "cell_type": "code",
      "source": [
        "word2id, id2word = create2id(word_vocab, 5)"
      ],
      "metadata": {
        "colab": {
          "base_uri": "https://localhost:8080/"
        },
        "id": "jOawuztu6eAj",
        "outputId": "1cd24d1c-ca8c-4149-b911-fe93c75074eb"
      },
      "execution_count": null,
      "outputs": [
        {
          "output_type": "stream",
          "name": "stdout",
          "text": [
            "уникальных токенов, втретившихся больше 5 раз: 51\n"
          ]
        }
      ]
    },
    {
      "cell_type": "code",
      "source": [
        "!wget https://dl.fbaipublicfiles.com/fasttext/vectors-crawl/cc.ru.300.vec.gz\n",
        "!gzip -d cc.ru.300.vec.gz"
      ],
      "metadata": {
        "colab": {
          "base_uri": "https://localhost:8080/"
        },
        "id": "AOM2mtLrCYpQ",
        "outputId": "c0bc38a7-bf3b-40b3-add8-1dffcbdaf342"
      },
      "execution_count": null,
      "outputs": [
        {
          "output_type": "stream",
          "name": "stdout",
          "text": [
            "--2022-03-21 11:19:35--  https://dl.fbaipublicfiles.com/fasttext/vectors-crawl/cc.ru.300.vec.gz\n",
            "Resolving dl.fbaipublicfiles.com (dl.fbaipublicfiles.com)... 104.22.74.142, 172.67.9.4, 104.22.75.142, ...\n",
            "Connecting to dl.fbaipublicfiles.com (dl.fbaipublicfiles.com)|104.22.74.142|:443... connected.\n",
            "HTTP request sent, awaiting response... 200 OK\n",
            "Length: 1306357571 (1.2G) [binary/octet-stream]\n",
            "Saving to: ‘cc.ru.300.vec.gz’\n",
            "\n",
            "cc.ru.300.vec.gz    100%[===================>]   1.22G  21.7MB/s    in 58s     \n",
            "\n",
            "2022-03-21 11:20:34 (21.4 MB/s) - ‘cc.ru.300.vec.gz’ saved [1306357571/1306357571]\n",
            "\n"
          ]
        }
      ]
    },
    {
      "cell_type": "code",
      "source": [
        "import numpy as np"
      ],
      "metadata": {
        "id": "SHk1PFwoCbvq"
      },
      "execution_count": null,
      "outputs": []
    },
    {
      "cell_type": "code",
      "source": [
        "word2index = {'PAD': 0}\n",
        "vectors = []\n",
        "    \n",
        "word2vec_file = open('cc.ru.300.vec')\n",
        "    \n",
        "n_words, embedding_dim = word2vec_file.readline().split()\n",
        "n_words, embedding_dim = int(n_words), int(embedding_dim)\n",
        "\n",
        "# Zero vector for PAD\n",
        "vectors.append(np.zeros((1, embedding_dim)))\n",
        "\n",
        "progress_bar = tqdm(desc='Read word2vec', total=n_words)\n",
        "\n",
        "while True:\n",
        "\n",
        "    line = word2vec_file.readline().strip()\n",
        "\n",
        "    if not line:\n",
        "        break\n",
        "        \n",
        "    current_parts = line.split()\n",
        "\n",
        "    current_word = ' '.join(current_parts[:-embedding_dim])\n",
        "\n",
        "    if current_word in word2id:\n",
        "\n",
        "        word2index[current_word] = len(word2index)\n",
        "\n",
        "        current_vectors = current_parts[-embedding_dim:]\n",
        "        current_vectors = np.array(list(map(float, current_vectors)))\n",
        "        current_vectors = np.expand_dims(current_vectors, 0)\n",
        "\n",
        "        vectors.append(current_vectors)\n",
        "\n",
        "    progress_bar.update(1)\n",
        "\n",
        "progress_bar.close()\n",
        "\n",
        "word2vec_file.close()\n",
        "\n",
        "vectors = np.concatenate(vectors)"
      ],
      "metadata": {
        "colab": {
          "base_uri": "https://localhost:8080/",
          "height": 49,
          "referenced_widgets": [
            "5f66a163ac18437c8fa83ff717476363",
            "33a195e0e15a43e290edcd1bd13d2e7d",
            "29a240b87f634cab86e416fb96d8de76",
            "3ac4f4271276451aaebfdad6f453b27f",
            "0d4175460e4e4d3ab2d387425601d9b7",
            "195d2849c7294965b417bd4bbcfdd1a8",
            "754efabb16e344f8a43b7d9437732a6a",
            "871ae1506ccc44f98122d2a1bd52c99d",
            "4dacb63054df4054b5737b82f1615571",
            "631226a30c3e4feaa98bcb3c6bd2f8fa",
            "c04bd2184d7149d7ace1b6d251dacfdb"
          ]
        },
        "id": "pelnq0MNCcL-",
        "outputId": "7e22aa84-a1c1-462b-a35d-92f6cc71b004"
      },
      "execution_count": null,
      "outputs": [
        {
          "output_type": "display_data",
          "data": {
            "text/plain": [
              "Read word2vec:   0%|          | 0/2000000 [00:00<?, ?it/s]"
            ],
            "application/vnd.jupyter.widget-view+json": {
              "version_major": 2,
              "version_minor": 0,
              "model_id": "5f66a163ac18437c8fa83ff717476363"
            }
          },
          "metadata": {}
        }
      ]
    },
    {
      "cell_type": "code",
      "source": [
        "#vectors = KeyedVectors.load_word2vec_format('/content/gdrive/MyDrive/Копия model.bin', binary=True)"
      ],
      "metadata": {
        "id": "LeQzBtrfz52w"
      },
      "execution_count": null,
      "outputs": []
    },
    {
      "cell_type": "code",
      "source": [
        "from sklearn.preprocessing import LabelEncoder\n",
        "\n",
        "encoder = LabelEncoder()\n",
        "train_dataset['Class'] = encoder.fit_transform(train_dataset['Class'])\n",
        "val_dataset['Class'] = encoder.transform(val_dataset['Class'])"
      ],
      "metadata": {
        "id": "zTr_0Nal3z2d"
      },
      "execution_count": null,
      "outputs": []
    },
    {
      "cell_type": "code",
      "source": [
        "train_features = train_dataset[['len in symbols',\n",
        "       'len in tokens', 'vowels / symbols', \n",
        "       'mean word length', 'long words / all words',\n",
        "       'small words', 'Dale-Chall', 'Gunning-Fog', 'Flesch',\n",
        "       'func_pos/all_words', 'cont_pos/all_words', 'noun_pos/all_words',\n",
        "       'verb_pos/all_words', 'noun_pos/verb_pos']].to_numpy()\n",
        "val_features = val_dataset[['len in symbols',\n",
        "       'len in tokens', 'vowels / symbols', \n",
        "       'mean word length', 'long words / all words',\n",
        "       'small words', 'Dale-Chall', 'Gunning-Fog', 'Flesch',\n",
        "       'func_pos/all_words', 'cont_pos/all_words', 'noun_pos/all_words',\n",
        "       'verb_pos/all_words', 'noun_pos/verb_pos']].to_numpy()"
      ],
      "metadata": {
        "id": "dDjstXBTuoD7"
      },
      "execution_count": null,
      "outputs": []
    },
    {
      "cell_type": "code",
      "source": [
        "train_data = W2VDataset(train_dataset, word2id, 'cpu', train_features)\n",
        "val_data = W2VDataset(val_dataset, word2id, 'cpu', val_features)\n",
        "train_sampler = RandomSampler(train_data)\n",
        "train_iterator = DataLoader(train_data, collate_fn = train_data.collate_fn, sampler=train_sampler, batch_size=64)\n",
        "val_sampler = SequentialSampler(val_data)\n",
        "val_iterator = DataLoader(val_data, collate_fn = val_data.collate_fn, sampler=val_sampler, batch_size=64)"
      ],
      "metadata": {
        "id": "JzZAFo_k3jZD"
      },
      "execution_count": null,
      "outputs": []
    },
    {
      "cell_type": "code",
      "source": [
        "class LModel(nn.Module):\n",
        "    def __init__(self, num_classes, weights, vocab_size):\n",
        "        super(LModel, self).__init__()\n",
        "        self.lstm_size = 150\n",
        "        self.embedding_dim = 300\n",
        "        self.num_layers = 2\n",
        "        self.embedding = nn.Embedding(vocab_size, 300)\n",
        "        self.embedding.from_pretrained(torch.tensor(weights))\n",
        "        self.lstm = nn.LSTM(\n",
        "            input_size=self.embedding_dim,\n",
        "            hidden_size=self.lstm_size,\n",
        "            num_layers=self.num_layers,\n",
        "            bidirectional=True,\n",
        "        )\n",
        "        self.h2h = nn.Linear(14, 300)\n",
        "        self.relu = nn.ReLU()\n",
        "        self.h2h_2 = nn.Linear(300, 200)\n",
        "        self.dropout = nn.Dropout(p=0.5)\n",
        "        self.i2o = nn.Linear(500, num_classes)\n",
        "\n",
        "    def forward(self, x, features, prev_state=None):\n",
        "        embed = self.embedding(x)\n",
        "        if prev_state:\n",
        "          output, state = self.lstm(embed, prev_state)\n",
        "        else:\n",
        "          output, state = self.lstm(embed)\n",
        "        output = torch.mean(output, dim=1)\n",
        "        features = self.relu(self.h2h(features))\n",
        "        features = self.relu(self.dropout(self.h2h_2(features)))\n",
        "        output = torch.cat((output, features), 1)\n",
        "        logits = self.i2o(output)\n",
        "        return logits, state"
      ],
      "metadata": {
        "id": "jQpBpxQE45vv"
      },
      "execution_count": null,
      "outputs": []
    },
    {
      "cell_type": "code",
      "source": [
        "from sklearn.metrics import accuracy_score"
      ],
      "metadata": {
        "id": "IkVC22iNC60f"
      },
      "execution_count": null,
      "outputs": []
    },
    {
      "cell_type": "code",
      "source": [
        "def train(model, iterator, optimizer, criterion):\n",
        "    print('Training...')\n",
        "    epoch_loss = 0 # для подсчета среднего лосса на всех батчах\n",
        "    model.train()  # ставим модель в обучение, явно указываем, что сейчас надо будет хранить градиенты у всех весов\n",
        "\n",
        "    for i, (vectors, features, ys, texts) in enumerate(iterator): #итерируемся по батчам\n",
        "        vectors = vectors.to('cuda:0')\n",
        "        features = features.to('cuda:0')\n",
        "        ys = ys.to('cuda:0')\n",
        "        optimizer.zero_grad()  #обнуляем градиенты\n",
        "        preds_proba = model(vectors, features) #прогоняем данные через модель\n",
        "        loss = criterion(preds_proba[0], ys) #считаем значение функции потерь  \n",
        "        loss.backward() #считаем градиенты  \n",
        "        optimizer.step() #обновляем веса \n",
        "        epoch_loss += loss.item() #сохраняем значение функции потерь\n",
        "        \n",
        "    print(f'Train loss: {epoch_loss/i}')\n",
        "    return epoch_loss / len(iterator)"
      ],
      "metadata": {
        "id": "c5YapBsO7u34"
      },
      "execution_count": null,
      "outputs": []
    },
    {
      "cell_type": "code",
      "source": [
        "def evaluate(model, iterator, criterion):\n",
        "    print(\"\\nValidating...\")\n",
        "    epoch_loss = 0\n",
        "    accuracy = []\n",
        "    model.eval() \n",
        "    pred = []\n",
        "    label = []\n",
        "    text = []\n",
        "    with torch.no_grad():\n",
        "        for i, (vectors, features, ys, texts) in enumerate(iterator):   \n",
        "            vectors = vectors.to('cuda:0')\n",
        "            features = features.to('cuda:0')\n",
        "            ys = ys.to('cuda:0')\n",
        "            predictions = model(vectors, features)  # делаем предсказания на тесте\n",
        "            loss = criterion(predictions[0], ys)   # считаем значения функции ошибки для статистики  \n",
        "            epoch_loss += loss.item() \n",
        "            accuracy.append(accuracy_score(ys.cpu().detach().numpy(), predictions[0].argmax(axis=1).cpu().detach().numpy()))\n",
        "            text.extend(list(texts))\n",
        "            pred.extend(predictions[0].argmax(axis=1).cpu().detach().tolist())\n",
        "            label.extend(ys.cpu().detach().tolist())\n",
        "    print(sum(accuracy)/len(accuracy))\n",
        "    return epoch_loss / len(iterator), text, pred, label # возвращаем средний лосс по батчам"
      ],
      "metadata": {
        "id": "7zVxZFn770Y5"
      },
      "execution_count": null,
      "outputs": []
    },
    {
      "cell_type": "code",
      "source": [
        "model = LModel(num_classes=13, weights=vectors, vocab_size=len(word2id))\n",
        "optimizer = optim.Adam(model.parameters(), lr=0.001)\n",
        "criterion = nn.CrossEntropyLoss() # Binary Cross Entropy\n",
        "\n",
        "# веса модели и значения лосса храним там же, где и все остальные тензоры\n",
        "model = model.to('cuda:0')\n",
        "criterion = criterion.to('cuda:0')"
      ],
      "metadata": {
        "id": "uY10vn3R7_Dt"
      },
      "execution_count": null,
      "outputs": []
    },
    {
      "cell_type": "code",
      "source": [
        "losses = []\n",
        "losses_eval = []\n",
        "\n",
        "for i in tqdm(range(10)):\n",
        "    print(f'\\nstarting Epoch {i}')\n",
        "    epoch_loss = train(model, train_iterator, optimizer, criterion)\n",
        "    losses.append(epoch_loss)\n",
        "\n",
        "    epoch_loss_on_test = evaluate(model, val_iterator, criterion)\n",
        "    losses_eval.append(epoch_loss_on_test)"
      ],
      "metadata": {
        "colab": {
          "base_uri": "https://localhost:8080/",
          "height": 1000,
          "referenced_widgets": [
            "bf84b72fc1ec4c0e952bf0f3b361b219",
            "7930a02bd5f64ac8a6f5699f1105e35a",
            "c8a9f41c7d494cd982c3ebd7f2628637",
            "452b6ea4b59042ed913f597a43ccb49b",
            "03a5a5302f774b0b9617fa36fef50685",
            "f6d8a2e9b19b489fa4ef027a22af37a9",
            "ce7e2fd543b0466e963cd0a83cc7cf3d",
            "c7344140d70a4711a0c0a1879482083b",
            "46b42bd5ce5b4e288922c94acffeaffa",
            "64c07652257d462a95ffdafe1d459985",
            "be076378f5404388b20ff523bbf8bd11"
          ]
        },
        "id": "GsTPj-HT73uI",
        "outputId": "906243d3-5714-4802-eae8-be050afe2a9a"
      },
      "execution_count": null,
      "outputs": [
        {
          "output_type": "display_data",
          "data": {
            "text/plain": [
              "  0%|          | 0/10 [00:00<?, ?it/s]"
            ],
            "application/vnd.jupyter.widget-view+json": {
              "version_major": 2,
              "version_minor": 0,
              "model_id": "bf84b72fc1ec4c0e952bf0f3b361b219"
            }
          },
          "metadata": {}
        },
        {
          "output_type": "stream",
          "name": "stdout",
          "text": [
            "\n",
            "starting Epoch 0\n",
            "Training...\n",
            "Train loss: 2.051010639822277\n",
            "\n",
            "Validating...\n",
            "0.2449147324037739\n",
            "\n",
            "starting Epoch 1\n",
            "Training...\n",
            "Train loss: 1.9432315263183957\n",
            "\n",
            "Validating...\n",
            "0.26168776613509226\n",
            "\n",
            "starting Epoch 2\n",
            "Training...\n",
            "Train loss: 1.9108337753604647\n",
            "\n",
            "Validating...\n",
            "0.26670389079068213\n",
            "\n",
            "starting Epoch 3\n",
            "Training...\n",
            "Train loss: 1.8973126799333457\n",
            "\n",
            "Validating...\n",
            "0.275748570176171\n",
            "\n",
            "starting Epoch 4\n",
            "Training...\n",
            "Train loss: 1.8788344352678286\n",
            "\n",
            "Validating...\n",
            "0.27973146447357433\n",
            "\n",
            "starting Epoch 5\n",
            "Training...\n",
            "Train loss: 1.8636385839104945\n",
            "\n",
            "Validating...\n",
            "0.28227801202304414\n",
            "\n",
            "starting Epoch 6\n",
            "Training...\n",
            "Train loss: 1.8479790724783327\n",
            "\n",
            "Validating...\n",
            "0.2846001711613927\n",
            "\n",
            "starting Epoch 7\n",
            "Training...\n",
            "Train loss: 1.8383729260968888\n",
            "\n",
            "Validating...\n",
            "0.28705670242965686\n",
            "\n",
            "starting Epoch 8\n",
            "Training...\n",
            "Train loss: 1.831036548587075\n",
            "\n",
            "Validating...\n",
            "0.2882882295232529\n",
            "\n",
            "starting Epoch 9\n",
            "Training...\n",
            "Train loss: 1.8255473342995812\n",
            "\n",
            "Validating...\n",
            "0.29197628788511315\n"
          ]
        }
      ]
    },
    {
      "cell_type": "code",
      "source": [
        "loss, texts, predictions, labels = evaluate(model, val_iterator, criterion)\n",
        "df = pd.DataFrame({'texts':texts, 'predictions':encoder.inverse_transform(predictions),\n",
        "                   'labels':encoder.inverse_transform(labels)})\n",
        "df.to_csv('LSTM_Word2Vec.csv')"
      ],
      "metadata": {
        "colab": {
          "base_uri": "https://localhost:8080/"
        },
        "id": "lqfKgH9iNrJ1",
        "outputId": "261d201e-26a5-4d72-9075-6c78a97d8964"
      },
      "execution_count": null,
      "outputs": [
        {
          "output_type": "stream",
          "name": "stdout",
          "text": [
            "\n",
            "Validating...\n",
            "0.29197628788511315\n"
          ]
        }
      ]
    }
  ]
}
